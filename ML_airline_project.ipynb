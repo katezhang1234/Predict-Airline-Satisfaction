{
 "cells": [
  {
   "cell_type": "code",
   "execution_count": 6,
   "metadata": {
    "id": "N2lcVaRs_Bdy"
   },
   "outputs": [],
   "source": [
    "# William Gunawan, Kenji Nakachi, Andrew Fortner, Kate Zhang"
   ]
  },
  {
   "cell_type": "markdown",
   "metadata": {
    "id": "NeCHwMFj3qug"
   },
   "source": [
    "<h1> Overview </h1>\n",
    "\n",
    "We chose the Airline Passenger Satisfaction Dataset from [Kaggle](https://www.kaggle.com/datasets/teejmahal20/airline-passenger-satisfaction?select=test.csv).\\\n",
    "The features are described in the next section *Column Context*.\\\n",
    "Our goal is to predict \"Customer Satisfaction\" given all of the other features and to evaluate various machine learning models used to predict \"Customer Satisfaction.\"\n",
    "\n",
    "<h2>Column Context:</h2>\n",
    "\n",
    "*Gender:* Gender of the passengers **(Female, Male)**\n",
    "\n",
    "*Customer Type:* The customer type **(Loyal customer, disloyal customer)**\n",
    "\n",
    "*Age:* The actual age of the passengers **(years)**\n",
    "\n",
    "*Type of Travel:* Purpose of the flight of the passengers **(Personal Travel, Business Travel)**\n",
    "\n",
    "*Class:* Travel class in the plane of the passengers **(Business, Eco, Eco Plus)**\n",
    "\n",
    "*Flight distance:* The flight distance of this journey **(miles)**\n",
    "\n",
    "*Inflight wifi service:* Satisfaction level **(0:Not Applicable;1-5)**\n",
    "\n",
    "*Departure/Arrival time convenient:* Satisfaction level **(0:Not Applicable;1-5)**\n",
    "\n",
    "*Ease of Online booking:* Satisfaction level **(0:Not Applicable;1-5)**\n",
    "\n",
    "*Gate location:* Satisfaction level **(0:Not Applicable;1-5)**\n",
    "\n",
    "*Food and drink:* Satisfaction level **(0:Not Applicable;1-5)**\n",
    "\n",
    "*Online boarding:* Satisfaction level **(0:Not Applicable;1-5)**\n",
    "\n",
    "*Seat comfort:* Satisfaction level **(0:Not Applicable;1-5)**\n",
    "\n",
    "*Inflight entertainment:* Satisfaction level **(0:Not Applicable;1-5)**\n",
    "\n",
    "*On-board service:* Satisfaction level **(0:Not Applicable;1-5)**\n",
    "\n",
    "*Leg room service:* Satisfaction level **(0:Not Applicable;1-5)**\n",
    "\n",
    "*Baggage handling:* Satisfaction level **(0:Not Applicable;1-5)**\n",
    "\n",
    "*Check-in service:* Satisfaction level **(0:Not Applicable;1-5)**\n",
    "\n",
    "*Inflight service:* Satisfaction level **(0:Not Applicable;1-5)**\n",
    "\n",
    "*Cleanliness:* Satisfaction level **(0:Not Applicable;1-5)**\n",
    "\n",
    "*Departure Delay in Minutes:* Minutes delayed when departure **(Minutes)**\n",
    "\n",
    "*Arrival Delay in Minutes:* Minutes delayed when Arrival **(Minutes)**\n",
    "\n",
    "*Satisfaction:* Airline satisfaction level **(Satisfaction, neutral or dissatisfaction)**"
   ]
  },
  {
   "cell_type": "code",
   "execution_count": 4,
   "metadata": {
    "id": "qFvRMOwYBfmo"
   },
   "outputs": [],
   "source": [
    "# Import packages\n",
    "import pandas as pd\n",
    "import numpy as np\n",
    "import sklearn as sk\n",
    "import sklearn.metrics as metrics\n",
    "import sklearn.neural_network\n",
    "import matplotlib.pyplot as plt\n",
    "import seaborn as sns\n",
    "import random\n",
    "import warnings\n",
    "\n",
    "from sklearn.impute import SimpleImputer\n",
    "from sklearn.impute import KNNImputer\n",
    "from sklearn.model_selection import train_test_split\n",
    "from sklearn.model_selection import StratifiedKFold\n",
    "from sklearn.model_selection import GridSearchCV\n",
    "from sklearn.model_selection import cross_val_score\n",
    "from sklearn.model_selection import cross_val_predict\n",
    "from sklearn.decomposition import PCA\n",
    "from sklearn.preprocessing import StandardScaler\n",
    "from sklearn.neighbors import NearestNeighbors\n",
    "from sklearn.neighbors import KNeighborsClassifier\n",
    "from sklearn.manifold import MDS\n",
    "from sklearn.cluster import DBSCAN\n",
    "from sklearn.linear_model import LinearRegression\n",
    "from sklearn.linear_model import LogisticRegression\n",
    "from sklearn.tree import DecisionTreeClassifier\n",
    "from sklearn.pipeline import Pipeline\n",
    "from sklearn.naive_bayes import GaussianNB\n",
    "from sklearn.ensemble import RandomForestClassifier\n",
    "\n",
    "from matplotlib import pyplot\n",
    "from scipy.stats import chi2_contingency\n",
    "from scipy.cluster.hierarchy import linkage, cophenet, dendrogram\n",
    "from scipy.spatial.distance import pdist\n",
    "from imblearn.under_sampling import RandomUnderSampler\n",
    "from imblearn.pipeline import Pipeline as imb_pipe\n",
    "from imblearn.over_sampling import RandomOverSampler\n",
    "from imblearn.over_sampling import SMOTE"
   ]
  },
  {
   "cell_type": "code",
   "execution_count": 2,
   "metadata": {
    "id": "-i0lNLdC_PlC"
   },
   "outputs": [],
   "source": [
    "def warn(*args, **kwargs):\n",
    "    pass\n",
    "warnings.warn = warn"
   ]
  },
  {
   "cell_type": "code",
   "execution_count": 3,
   "metadata": {
    "colab": {
     "base_uri": "https://localhost:8080/",
     "height": 438
    },
    "id": "gv4L-3DfAXNW",
    "outputId": "b94d0da1-f342-4c90-fd72-b609277eb501"
   },
   "outputs": [
    {
     "data": {
      "text/html": [
       "<div>\n",
       "<style scoped>\n",
       "    .dataframe tbody tr th:only-of-type {\n",
       "        vertical-align: middle;\n",
       "    }\n",
       "\n",
       "    .dataframe tbody tr th {\n",
       "        vertical-align: top;\n",
       "    }\n",
       "\n",
       "    .dataframe thead th {\n",
       "        text-align: right;\n",
       "    }\n",
       "</style>\n",
       "<table border=\"1\" class=\"dataframe\">\n",
       "  <thead>\n",
       "    <tr style=\"text-align: right;\">\n",
       "      <th></th>\n",
       "      <th>Unnamed: 0</th>\n",
       "      <th>id</th>\n",
       "      <th>Gender</th>\n",
       "      <th>Customer Type</th>\n",
       "      <th>Age</th>\n",
       "      <th>Type of Travel</th>\n",
       "      <th>Class</th>\n",
       "      <th>Flight Distance</th>\n",
       "      <th>Inflight wifi service</th>\n",
       "      <th>Departure/Arrival time convenient</th>\n",
       "      <th>...</th>\n",
       "      <th>Inflight entertainment</th>\n",
       "      <th>On-board service</th>\n",
       "      <th>Leg room service</th>\n",
       "      <th>Baggage handling</th>\n",
       "      <th>Checkin service</th>\n",
       "      <th>Inflight service</th>\n",
       "      <th>Cleanliness</th>\n",
       "      <th>Departure Delay in Minutes</th>\n",
       "      <th>Arrival Delay in Minutes</th>\n",
       "      <th>satisfaction</th>\n",
       "    </tr>\n",
       "  </thead>\n",
       "  <tbody>\n",
       "    <tr>\n",
       "      <th>0</th>\n",
       "      <td>0</td>\n",
       "      <td>70172</td>\n",
       "      <td>Male</td>\n",
       "      <td>Loyal Customer</td>\n",
       "      <td>13</td>\n",
       "      <td>Personal Travel</td>\n",
       "      <td>Eco Plus</td>\n",
       "      <td>460</td>\n",
       "      <td>3</td>\n",
       "      <td>4</td>\n",
       "      <td>...</td>\n",
       "      <td>5</td>\n",
       "      <td>4</td>\n",
       "      <td>3</td>\n",
       "      <td>4</td>\n",
       "      <td>4</td>\n",
       "      <td>5</td>\n",
       "      <td>5</td>\n",
       "      <td>25</td>\n",
       "      <td>18.0</td>\n",
       "      <td>neutral or dissatisfied</td>\n",
       "    </tr>\n",
       "    <tr>\n",
       "      <th>1</th>\n",
       "      <td>1</td>\n",
       "      <td>5047</td>\n",
       "      <td>Male</td>\n",
       "      <td>disloyal Customer</td>\n",
       "      <td>25</td>\n",
       "      <td>Business travel</td>\n",
       "      <td>Business</td>\n",
       "      <td>235</td>\n",
       "      <td>3</td>\n",
       "      <td>2</td>\n",
       "      <td>...</td>\n",
       "      <td>1</td>\n",
       "      <td>1</td>\n",
       "      <td>5</td>\n",
       "      <td>3</td>\n",
       "      <td>1</td>\n",
       "      <td>4</td>\n",
       "      <td>1</td>\n",
       "      <td>1</td>\n",
       "      <td>6.0</td>\n",
       "      <td>neutral or dissatisfied</td>\n",
       "    </tr>\n",
       "    <tr>\n",
       "      <th>2</th>\n",
       "      <td>2</td>\n",
       "      <td>110028</td>\n",
       "      <td>Female</td>\n",
       "      <td>Loyal Customer</td>\n",
       "      <td>26</td>\n",
       "      <td>Business travel</td>\n",
       "      <td>Business</td>\n",
       "      <td>1142</td>\n",
       "      <td>2</td>\n",
       "      <td>2</td>\n",
       "      <td>...</td>\n",
       "      <td>5</td>\n",
       "      <td>4</td>\n",
       "      <td>3</td>\n",
       "      <td>4</td>\n",
       "      <td>4</td>\n",
       "      <td>4</td>\n",
       "      <td>5</td>\n",
       "      <td>0</td>\n",
       "      <td>0.0</td>\n",
       "      <td>satisfied</td>\n",
       "    </tr>\n",
       "    <tr>\n",
       "      <th>3</th>\n",
       "      <td>3</td>\n",
       "      <td>24026</td>\n",
       "      <td>Female</td>\n",
       "      <td>Loyal Customer</td>\n",
       "      <td>25</td>\n",
       "      <td>Business travel</td>\n",
       "      <td>Business</td>\n",
       "      <td>562</td>\n",
       "      <td>2</td>\n",
       "      <td>5</td>\n",
       "      <td>...</td>\n",
       "      <td>2</td>\n",
       "      <td>2</td>\n",
       "      <td>5</td>\n",
       "      <td>3</td>\n",
       "      <td>1</td>\n",
       "      <td>4</td>\n",
       "      <td>2</td>\n",
       "      <td>11</td>\n",
       "      <td>9.0</td>\n",
       "      <td>neutral or dissatisfied</td>\n",
       "    </tr>\n",
       "    <tr>\n",
       "      <th>4</th>\n",
       "      <td>4</td>\n",
       "      <td>119299</td>\n",
       "      <td>Male</td>\n",
       "      <td>Loyal Customer</td>\n",
       "      <td>61</td>\n",
       "      <td>Business travel</td>\n",
       "      <td>Business</td>\n",
       "      <td>214</td>\n",
       "      <td>3</td>\n",
       "      <td>3</td>\n",
       "      <td>...</td>\n",
       "      <td>3</td>\n",
       "      <td>3</td>\n",
       "      <td>4</td>\n",
       "      <td>4</td>\n",
       "      <td>3</td>\n",
       "      <td>3</td>\n",
       "      <td>3</td>\n",
       "      <td>0</td>\n",
       "      <td>0.0</td>\n",
       "      <td>satisfied</td>\n",
       "    </tr>\n",
       "  </tbody>\n",
       "</table>\n",
       "<p>5 rows × 25 columns</p>\n",
       "</div>"
      ],
      "text/plain": [
       "   Unnamed: 0      id  Gender      Customer Type  Age   Type of Travel  \\\n",
       "0           0   70172    Male     Loyal Customer   13  Personal Travel   \n",
       "1           1    5047    Male  disloyal Customer   25  Business travel   \n",
       "2           2  110028  Female     Loyal Customer   26  Business travel   \n",
       "3           3   24026  Female     Loyal Customer   25  Business travel   \n",
       "4           4  119299    Male     Loyal Customer   61  Business travel   \n",
       "\n",
       "      Class  Flight Distance  Inflight wifi service  \\\n",
       "0  Eco Plus              460                      3   \n",
       "1  Business              235                      3   \n",
       "2  Business             1142                      2   \n",
       "3  Business              562                      2   \n",
       "4  Business              214                      3   \n",
       "\n",
       "   Departure/Arrival time convenient  ...  Inflight entertainment  \\\n",
       "0                                  4  ...                       5   \n",
       "1                                  2  ...                       1   \n",
       "2                                  2  ...                       5   \n",
       "3                                  5  ...                       2   \n",
       "4                                  3  ...                       3   \n",
       "\n",
       "   On-board service  Leg room service  Baggage handling  Checkin service  \\\n",
       "0                 4                 3                 4                4   \n",
       "1                 1                 5                 3                1   \n",
       "2                 4                 3                 4                4   \n",
       "3                 2                 5                 3                1   \n",
       "4                 3                 4                 4                3   \n",
       "\n",
       "   Inflight service  Cleanliness  Departure Delay in Minutes  \\\n",
       "0                 5            5                          25   \n",
       "1                 4            1                           1   \n",
       "2                 4            5                           0   \n",
       "3                 4            2                          11   \n",
       "4                 3            3                           0   \n",
       "\n",
       "   Arrival Delay in Minutes             satisfaction  \n",
       "0                      18.0  neutral or dissatisfied  \n",
       "1                       6.0  neutral or dissatisfied  \n",
       "2                       0.0                satisfied  \n",
       "3                       9.0  neutral or dissatisfied  \n",
       "4                       0.0                satisfied  \n",
       "\n",
       "[5 rows x 25 columns]"
      ]
     },
     "execution_count": 3,
     "metadata": {},
     "output_type": "execute_result"
    }
   ],
   "source": [
    "# Download data\n",
    "data = pd.read_csv(\"https://raw.githubusercontent.com/katezhang1234/ML_Airline_Project/main/train.csv\")\n",
    "data.head(5)"
   ]
  },
  {
   "cell_type": "markdown",
   "metadata": {
    "id": "1e6a96lm3quh"
   },
   "source": [
    "<h1> Step 1: Data Cleaning </h1>\n",
    "<h3> 1.1: Remove Unnecessary Columns </h3>\n",
    "\n",
    "We don't want to use features like *ID* in our classification, so we drop these unnecessary features"
   ]
  },
  {
   "cell_type": "code",
   "execution_count": 5,
   "metadata": {
    "colab": {
     "base_uri": "https://localhost:8080/",
     "height": 456
    },
    "id": "RCtURU8i3quh",
    "outputId": "bd79c4f8-a5bb-41d3-c7bf-fd1296e6fcc4"
   },
   "outputs": [
    {
     "name": "stdout",
     "output_type": "stream",
     "text": [
      "Duplicated IDs:  0\n"
     ]
    },
    {
     "data": {
      "text/html": [
       "<div>\n",
       "<style scoped>\n",
       "    .dataframe tbody tr th:only-of-type {\n",
       "        vertical-align: middle;\n",
       "    }\n",
       "\n",
       "    .dataframe tbody tr th {\n",
       "        vertical-align: top;\n",
       "    }\n",
       "\n",
       "    .dataframe thead th {\n",
       "        text-align: right;\n",
       "    }\n",
       "</style>\n",
       "<table border=\"1\" class=\"dataframe\">\n",
       "  <thead>\n",
       "    <tr style=\"text-align: right;\">\n",
       "      <th></th>\n",
       "      <th>Gender</th>\n",
       "      <th>Customer Type</th>\n",
       "      <th>Age</th>\n",
       "      <th>Type of Travel</th>\n",
       "      <th>Class</th>\n",
       "      <th>Flight Distance</th>\n",
       "      <th>Inflight wifi service</th>\n",
       "      <th>Departure/Arrival time convenient</th>\n",
       "      <th>Ease of Online booking</th>\n",
       "      <th>Gate location</th>\n",
       "      <th>...</th>\n",
       "      <th>Inflight entertainment</th>\n",
       "      <th>On-board service</th>\n",
       "      <th>Leg room service</th>\n",
       "      <th>Baggage handling</th>\n",
       "      <th>Checkin service</th>\n",
       "      <th>Inflight service</th>\n",
       "      <th>Cleanliness</th>\n",
       "      <th>Departure Delay in Minutes</th>\n",
       "      <th>Arrival Delay in Minutes</th>\n",
       "      <th>satisfaction</th>\n",
       "    </tr>\n",
       "  </thead>\n",
       "  <tbody>\n",
       "    <tr>\n",
       "      <th>0</th>\n",
       "      <td>Male</td>\n",
       "      <td>Loyal Customer</td>\n",
       "      <td>13</td>\n",
       "      <td>Personal Travel</td>\n",
       "      <td>Eco Plus</td>\n",
       "      <td>460</td>\n",
       "      <td>3</td>\n",
       "      <td>4</td>\n",
       "      <td>3</td>\n",
       "      <td>1</td>\n",
       "      <td>...</td>\n",
       "      <td>5</td>\n",
       "      <td>4</td>\n",
       "      <td>3</td>\n",
       "      <td>4</td>\n",
       "      <td>4</td>\n",
       "      <td>5</td>\n",
       "      <td>5</td>\n",
       "      <td>25</td>\n",
       "      <td>18.0</td>\n",
       "      <td>neutral or dissatisfied</td>\n",
       "    </tr>\n",
       "    <tr>\n",
       "      <th>1</th>\n",
       "      <td>Male</td>\n",
       "      <td>disloyal Customer</td>\n",
       "      <td>25</td>\n",
       "      <td>Business travel</td>\n",
       "      <td>Business</td>\n",
       "      <td>235</td>\n",
       "      <td>3</td>\n",
       "      <td>2</td>\n",
       "      <td>3</td>\n",
       "      <td>3</td>\n",
       "      <td>...</td>\n",
       "      <td>1</td>\n",
       "      <td>1</td>\n",
       "      <td>5</td>\n",
       "      <td>3</td>\n",
       "      <td>1</td>\n",
       "      <td>4</td>\n",
       "      <td>1</td>\n",
       "      <td>1</td>\n",
       "      <td>6.0</td>\n",
       "      <td>neutral or dissatisfied</td>\n",
       "    </tr>\n",
       "    <tr>\n",
       "      <th>2</th>\n",
       "      <td>Female</td>\n",
       "      <td>Loyal Customer</td>\n",
       "      <td>26</td>\n",
       "      <td>Business travel</td>\n",
       "      <td>Business</td>\n",
       "      <td>1142</td>\n",
       "      <td>2</td>\n",
       "      <td>2</td>\n",
       "      <td>2</td>\n",
       "      <td>2</td>\n",
       "      <td>...</td>\n",
       "      <td>5</td>\n",
       "      <td>4</td>\n",
       "      <td>3</td>\n",
       "      <td>4</td>\n",
       "      <td>4</td>\n",
       "      <td>4</td>\n",
       "      <td>5</td>\n",
       "      <td>0</td>\n",
       "      <td>0.0</td>\n",
       "      <td>satisfied</td>\n",
       "    </tr>\n",
       "    <tr>\n",
       "      <th>3</th>\n",
       "      <td>Female</td>\n",
       "      <td>Loyal Customer</td>\n",
       "      <td>25</td>\n",
       "      <td>Business travel</td>\n",
       "      <td>Business</td>\n",
       "      <td>562</td>\n",
       "      <td>2</td>\n",
       "      <td>5</td>\n",
       "      <td>5</td>\n",
       "      <td>5</td>\n",
       "      <td>...</td>\n",
       "      <td>2</td>\n",
       "      <td>2</td>\n",
       "      <td>5</td>\n",
       "      <td>3</td>\n",
       "      <td>1</td>\n",
       "      <td>4</td>\n",
       "      <td>2</td>\n",
       "      <td>11</td>\n",
       "      <td>9.0</td>\n",
       "      <td>neutral or dissatisfied</td>\n",
       "    </tr>\n",
       "    <tr>\n",
       "      <th>4</th>\n",
       "      <td>Male</td>\n",
       "      <td>Loyal Customer</td>\n",
       "      <td>61</td>\n",
       "      <td>Business travel</td>\n",
       "      <td>Business</td>\n",
       "      <td>214</td>\n",
       "      <td>3</td>\n",
       "      <td>3</td>\n",
       "      <td>3</td>\n",
       "      <td>3</td>\n",
       "      <td>...</td>\n",
       "      <td>3</td>\n",
       "      <td>3</td>\n",
       "      <td>4</td>\n",
       "      <td>4</td>\n",
       "      <td>3</td>\n",
       "      <td>3</td>\n",
       "      <td>3</td>\n",
       "      <td>0</td>\n",
       "      <td>0.0</td>\n",
       "      <td>satisfied</td>\n",
       "    </tr>\n",
       "  </tbody>\n",
       "</table>\n",
       "<p>5 rows × 23 columns</p>\n",
       "</div>"
      ],
      "text/plain": [
       "   Gender      Customer Type  Age   Type of Travel     Class  Flight Distance  \\\n",
       "0    Male     Loyal Customer   13  Personal Travel  Eco Plus              460   \n",
       "1    Male  disloyal Customer   25  Business travel  Business              235   \n",
       "2  Female     Loyal Customer   26  Business travel  Business             1142   \n",
       "3  Female     Loyal Customer   25  Business travel  Business              562   \n",
       "4    Male     Loyal Customer   61  Business travel  Business              214   \n",
       "\n",
       "   Inflight wifi service  Departure/Arrival time convenient  \\\n",
       "0                      3                                  4   \n",
       "1                      3                                  2   \n",
       "2                      2                                  2   \n",
       "3                      2                                  5   \n",
       "4                      3                                  3   \n",
       "\n",
       "   Ease of Online booking  Gate location  ...  Inflight entertainment  \\\n",
       "0                       3              1  ...                       5   \n",
       "1                       3              3  ...                       1   \n",
       "2                       2              2  ...                       5   \n",
       "3                       5              5  ...                       2   \n",
       "4                       3              3  ...                       3   \n",
       "\n",
       "   On-board service  Leg room service  Baggage handling  Checkin service  \\\n",
       "0                 4                 3                 4                4   \n",
       "1                 1                 5                 3                1   \n",
       "2                 4                 3                 4                4   \n",
       "3                 2                 5                 3                1   \n",
       "4                 3                 4                 4                3   \n",
       "\n",
       "   Inflight service  Cleanliness  Departure Delay in Minutes  \\\n",
       "0                 5            5                          25   \n",
       "1                 4            1                           1   \n",
       "2                 4            5                           0   \n",
       "3                 4            2                          11   \n",
       "4                 3            3                           0   \n",
       "\n",
       "   Arrival Delay in Minutes             satisfaction  \n",
       "0                      18.0  neutral or dissatisfied  \n",
       "1                       6.0  neutral or dissatisfied  \n",
       "2                       0.0                satisfied  \n",
       "3                       9.0  neutral or dissatisfied  \n",
       "4                       0.0                satisfied  \n",
       "\n",
       "[5 rows x 23 columns]"
      ]
     },
     "execution_count": 5,
     "metadata": {},
     "output_type": "execute_result"
    }
   ],
   "source": [
    "# Check for duplicated rows\n",
    "print(\"Duplicated IDs: \",data['id'].duplicated().sum())\n",
    "\n",
    "# Drop id and Unnamed columns -- we do not want to use these as features\n",
    "data = data.drop(['Unnamed: 0', 'id'], axis=1)\n",
    "data.head(5)"
   ]
  },
  {
   "cell_type": "markdown",
   "metadata": {
    "id": "EBAfxIyf3quh"
   },
   "source": [
    "<h3> 1.2: Encoding Categorical Values </h3>\n",
    "\n",
    "In order to impute missing values, we need to encode our categorical values into numerical values."
   ]
  },
  {
   "cell_type": "code",
   "execution_count": 6,
   "metadata": {
    "colab": {
     "base_uri": "https://localhost:8080/",
     "height": 352
    },
    "id": "6JR9hAqM3quh",
    "outputId": "ba24abee-7a74-4518-b83c-c7b3ca881a6e"
   },
   "outputs": [
    {
     "data": {
      "text/html": [
       "<div>\n",
       "<style scoped>\n",
       "    .dataframe tbody tr th:only-of-type {\n",
       "        vertical-align: middle;\n",
       "    }\n",
       "\n",
       "    .dataframe tbody tr th {\n",
       "        vertical-align: top;\n",
       "    }\n",
       "\n",
       "    .dataframe thead th {\n",
       "        text-align: right;\n",
       "    }\n",
       "</style>\n",
       "<table border=\"1\" class=\"dataframe\">\n",
       "  <thead>\n",
       "    <tr style=\"text-align: right;\">\n",
       "      <th></th>\n",
       "      <th>Age</th>\n",
       "      <th>Flight Distance</th>\n",
       "      <th>Inflight wifi service</th>\n",
       "      <th>Departure/Arrival time convenient</th>\n",
       "      <th>Ease of Online booking</th>\n",
       "      <th>Gate location</th>\n",
       "      <th>Food and drink</th>\n",
       "      <th>Online boarding</th>\n",
       "      <th>Seat comfort</th>\n",
       "      <th>Inflight entertainment</th>\n",
       "      <th>...</th>\n",
       "      <th>Baggage handling</th>\n",
       "      <th>Checkin service</th>\n",
       "      <th>Inflight service</th>\n",
       "      <th>Cleanliness</th>\n",
       "      <th>Departure Delay in Minutes</th>\n",
       "      <th>Arrival Delay in Minutes</th>\n",
       "      <th>Gender_Male</th>\n",
       "      <th>Customer Type_Loyal Customer</th>\n",
       "      <th>Type of Travel_Personal Travel</th>\n",
       "      <th>Class_Business</th>\n",
       "    </tr>\n",
       "  </thead>\n",
       "  <tbody>\n",
       "    <tr>\n",
       "      <th>0</th>\n",
       "      <td>13</td>\n",
       "      <td>460</td>\n",
       "      <td>3</td>\n",
       "      <td>4</td>\n",
       "      <td>3</td>\n",
       "      <td>1</td>\n",
       "      <td>5</td>\n",
       "      <td>3</td>\n",
       "      <td>5</td>\n",
       "      <td>5</td>\n",
       "      <td>...</td>\n",
       "      <td>4</td>\n",
       "      <td>4</td>\n",
       "      <td>5</td>\n",
       "      <td>5</td>\n",
       "      <td>25</td>\n",
       "      <td>18.0</td>\n",
       "      <td>1</td>\n",
       "      <td>1</td>\n",
       "      <td>1</td>\n",
       "      <td>0</td>\n",
       "    </tr>\n",
       "    <tr>\n",
       "      <th>1</th>\n",
       "      <td>25</td>\n",
       "      <td>235</td>\n",
       "      <td>3</td>\n",
       "      <td>2</td>\n",
       "      <td>3</td>\n",
       "      <td>3</td>\n",
       "      <td>1</td>\n",
       "      <td>3</td>\n",
       "      <td>1</td>\n",
       "      <td>1</td>\n",
       "      <td>...</td>\n",
       "      <td>3</td>\n",
       "      <td>1</td>\n",
       "      <td>4</td>\n",
       "      <td>1</td>\n",
       "      <td>1</td>\n",
       "      <td>6.0</td>\n",
       "      <td>1</td>\n",
       "      <td>0</td>\n",
       "      <td>0</td>\n",
       "      <td>1</td>\n",
       "    </tr>\n",
       "    <tr>\n",
       "      <th>2</th>\n",
       "      <td>26</td>\n",
       "      <td>1142</td>\n",
       "      <td>2</td>\n",
       "      <td>2</td>\n",
       "      <td>2</td>\n",
       "      <td>2</td>\n",
       "      <td>5</td>\n",
       "      <td>5</td>\n",
       "      <td>5</td>\n",
       "      <td>5</td>\n",
       "      <td>...</td>\n",
       "      <td>4</td>\n",
       "      <td>4</td>\n",
       "      <td>4</td>\n",
       "      <td>5</td>\n",
       "      <td>0</td>\n",
       "      <td>0.0</td>\n",
       "      <td>0</td>\n",
       "      <td>1</td>\n",
       "      <td>0</td>\n",
       "      <td>1</td>\n",
       "    </tr>\n",
       "    <tr>\n",
       "      <th>3</th>\n",
       "      <td>25</td>\n",
       "      <td>562</td>\n",
       "      <td>2</td>\n",
       "      <td>5</td>\n",
       "      <td>5</td>\n",
       "      <td>5</td>\n",
       "      <td>2</td>\n",
       "      <td>2</td>\n",
       "      <td>2</td>\n",
       "      <td>2</td>\n",
       "      <td>...</td>\n",
       "      <td>3</td>\n",
       "      <td>1</td>\n",
       "      <td>4</td>\n",
       "      <td>2</td>\n",
       "      <td>11</td>\n",
       "      <td>9.0</td>\n",
       "      <td>0</td>\n",
       "      <td>1</td>\n",
       "      <td>0</td>\n",
       "      <td>1</td>\n",
       "    </tr>\n",
       "    <tr>\n",
       "      <th>4</th>\n",
       "      <td>61</td>\n",
       "      <td>214</td>\n",
       "      <td>3</td>\n",
       "      <td>3</td>\n",
       "      <td>3</td>\n",
       "      <td>3</td>\n",
       "      <td>4</td>\n",
       "      <td>5</td>\n",
       "      <td>5</td>\n",
       "      <td>3</td>\n",
       "      <td>...</td>\n",
       "      <td>4</td>\n",
       "      <td>3</td>\n",
       "      <td>3</td>\n",
       "      <td>3</td>\n",
       "      <td>0</td>\n",
       "      <td>0.0</td>\n",
       "      <td>1</td>\n",
       "      <td>1</td>\n",
       "      <td>0</td>\n",
       "      <td>1</td>\n",
       "    </tr>\n",
       "  </tbody>\n",
       "</table>\n",
       "<p>5 rows × 22 columns</p>\n",
       "</div>"
      ],
      "text/plain": [
       "   Age  Flight Distance  Inflight wifi service  \\\n",
       "0   13              460                      3   \n",
       "1   25              235                      3   \n",
       "2   26             1142                      2   \n",
       "3   25              562                      2   \n",
       "4   61              214                      3   \n",
       "\n",
       "   Departure/Arrival time convenient  Ease of Online booking  Gate location  \\\n",
       "0                                  4                       3              1   \n",
       "1                                  2                       3              3   \n",
       "2                                  2                       2              2   \n",
       "3                                  5                       5              5   \n",
       "4                                  3                       3              3   \n",
       "\n",
       "   Food and drink  Online boarding  Seat comfort  Inflight entertainment  ...  \\\n",
       "0               5                3             5                       5  ...   \n",
       "1               1                3             1                       1  ...   \n",
       "2               5                5             5                       5  ...   \n",
       "3               2                2             2                       2  ...   \n",
       "4               4                5             5                       3  ...   \n",
       "\n",
       "   Baggage handling  Checkin service  Inflight service  Cleanliness  \\\n",
       "0                 4                4                 5            5   \n",
       "1                 3                1                 4            1   \n",
       "2                 4                4                 4            5   \n",
       "3                 3                1                 4            2   \n",
       "4                 4                3                 3            3   \n",
       "\n",
       "   Departure Delay in Minutes  Arrival Delay in Minutes  Gender_Male  \\\n",
       "0                          25                      18.0            1   \n",
       "1                           1                       6.0            1   \n",
       "2                           0                       0.0            0   \n",
       "3                          11                       9.0            0   \n",
       "4                           0                       0.0            1   \n",
       "\n",
       "   Customer Type_Loyal Customer  Type of Travel_Personal Travel  \\\n",
       "0                             1                               1   \n",
       "1                             0                               0   \n",
       "2                             1                               0   \n",
       "3                             1                               0   \n",
       "4                             1                               0   \n",
       "\n",
       "   Class_Business  \n",
       "0               0  \n",
       "1               1  \n",
       "2               1  \n",
       "3               1  \n",
       "4               1  \n",
       "\n",
       "[5 rows x 22 columns]"
      ]
     },
     "execution_count": 6,
     "metadata": {},
     "output_type": "execute_result"
    }
   ],
   "source": [
    "# One hot encoding of categorical variables\n",
    "categorical_variables = ['Gender', 'Customer Type', 'Type of Travel', 'Class', 'satisfaction']\n",
    "\n",
    "df_encoded = pd.get_dummies(data, columns=categorical_variables)\n",
    "df_encoded.drop(['Gender_Female', 'Customer Type_disloyal Customer', 'Type of Travel_Business travel', 'Class_Eco', 'Class_Eco Plus', 'satisfaction_neutral or dissatisfied'], axis=1, inplace=True)\n",
    "\n",
    "labels = df_encoded['satisfaction_satisfied']\n",
    "df_encoded.drop(['satisfaction_satisfied'], axis=1, inplace=True)\n",
    "\n",
    "# Print the first five rows of the encoded DataFrame\n",
    "df_encoded.head()"
   ]
  },
  {
   "cell_type": "code",
   "execution_count": 7,
   "metadata": {
    "colab": {
     "base_uri": "https://localhost:8080/",
     "height": 574
    },
    "id": "M1s2muyQ3qui",
    "outputId": "bf345f13-e9c6-4832-bb29-d267f6431031"
   },
   "outputs": [
    {
     "name": "stdout",
     "output_type": "stream",
     "text": [
      "Training set missing values =  310\n",
      "Arrival column missing values =  310\n"
     ]
    },
    {
     "data": {
      "text/html": [
       "<div>\n",
       "<style scoped>\n",
       "    .dataframe tbody tr th:only-of-type {\n",
       "        vertical-align: middle;\n",
       "    }\n",
       "\n",
       "    .dataframe tbody tr th {\n",
       "        vertical-align: top;\n",
       "    }\n",
       "\n",
       "    .dataframe thead th {\n",
       "        text-align: right;\n",
       "    }\n",
       "</style>\n",
       "<table border=\"1\" class=\"dataframe\">\n",
       "  <thead>\n",
       "    <tr style=\"text-align: right;\">\n",
       "      <th></th>\n",
       "      <th>Age</th>\n",
       "      <th>Flight Distance</th>\n",
       "      <th>Inflight wifi service</th>\n",
       "      <th>Departure/Arrival time convenient</th>\n",
       "      <th>Ease of Online booking</th>\n",
       "      <th>Gate location</th>\n",
       "      <th>Food and drink</th>\n",
       "      <th>Online boarding</th>\n",
       "      <th>Seat comfort</th>\n",
       "      <th>Inflight entertainment</th>\n",
       "      <th>...</th>\n",
       "      <th>Baggage handling</th>\n",
       "      <th>Checkin service</th>\n",
       "      <th>Inflight service</th>\n",
       "      <th>Cleanliness</th>\n",
       "      <th>Departure Delay in Minutes</th>\n",
       "      <th>Arrival Delay in Minutes</th>\n",
       "      <th>Gender_Male</th>\n",
       "      <th>Customer Type_Loyal Customer</th>\n",
       "      <th>Type of Travel_Personal Travel</th>\n",
       "      <th>Class_Business</th>\n",
       "    </tr>\n",
       "  </thead>\n",
       "  <tbody>\n",
       "    <tr>\n",
       "      <th>213</th>\n",
       "      <td>38</td>\n",
       "      <td>109</td>\n",
       "      <td>5</td>\n",
       "      <td>3</td>\n",
       "      <td>3</td>\n",
       "      <td>3</td>\n",
       "      <td>5</td>\n",
       "      <td>5</td>\n",
       "      <td>5</td>\n",
       "      <td>5</td>\n",
       "      <td>...</td>\n",
       "      <td>4</td>\n",
       "      <td>1</td>\n",
       "      <td>1</td>\n",
       "      <td>5</td>\n",
       "      <td>31</td>\n",
       "      <td>NaN</td>\n",
       "      <td>0</td>\n",
       "      <td>1</td>\n",
       "      <td>0</td>\n",
       "      <td>0</td>\n",
       "    </tr>\n",
       "    <tr>\n",
       "      <th>1124</th>\n",
       "      <td>53</td>\n",
       "      <td>1012</td>\n",
       "      <td>3</td>\n",
       "      <td>2</td>\n",
       "      <td>3</td>\n",
       "      <td>4</td>\n",
       "      <td>4</td>\n",
       "      <td>3</td>\n",
       "      <td>4</td>\n",
       "      <td>4</td>\n",
       "      <td>...</td>\n",
       "      <td>4</td>\n",
       "      <td>3</td>\n",
       "      <td>3</td>\n",
       "      <td>4</td>\n",
       "      <td>38</td>\n",
       "      <td>NaN</td>\n",
       "      <td>1</td>\n",
       "      <td>1</td>\n",
       "      <td>1</td>\n",
       "      <td>0</td>\n",
       "    </tr>\n",
       "    <tr>\n",
       "      <th>1529</th>\n",
       "      <td>39</td>\n",
       "      <td>733</td>\n",
       "      <td>2</td>\n",
       "      <td>5</td>\n",
       "      <td>5</td>\n",
       "      <td>5</td>\n",
       "      <td>2</td>\n",
       "      <td>4</td>\n",
       "      <td>3</td>\n",
       "      <td>2</td>\n",
       "      <td>...</td>\n",
       "      <td>2</td>\n",
       "      <td>2</td>\n",
       "      <td>2</td>\n",
       "      <td>3</td>\n",
       "      <td>11</td>\n",
       "      <td>NaN</td>\n",
       "      <td>1</td>\n",
       "      <td>1</td>\n",
       "      <td>0</td>\n",
       "      <td>1</td>\n",
       "    </tr>\n",
       "    <tr>\n",
       "      <th>2004</th>\n",
       "      <td>26</td>\n",
       "      <td>1035</td>\n",
       "      <td>3</td>\n",
       "      <td>3</td>\n",
       "      <td>3</td>\n",
       "      <td>1</td>\n",
       "      <td>2</td>\n",
       "      <td>3</td>\n",
       "      <td>2</td>\n",
       "      <td>2</td>\n",
       "      <td>...</td>\n",
       "      <td>4</td>\n",
       "      <td>5</td>\n",
       "      <td>5</td>\n",
       "      <td>2</td>\n",
       "      <td>41</td>\n",
       "      <td>NaN</td>\n",
       "      <td>0</td>\n",
       "      <td>0</td>\n",
       "      <td>0</td>\n",
       "      <td>1</td>\n",
       "    </tr>\n",
       "    <tr>\n",
       "      <th>2108</th>\n",
       "      <td>24</td>\n",
       "      <td>417</td>\n",
       "      <td>2</td>\n",
       "      <td>1</td>\n",
       "      <td>2</td>\n",
       "      <td>2</td>\n",
       "      <td>5</td>\n",
       "      <td>2</td>\n",
       "      <td>5</td>\n",
       "      <td>5</td>\n",
       "      <td>...</td>\n",
       "      <td>2</td>\n",
       "      <td>1</td>\n",
       "      <td>2</td>\n",
       "      <td>5</td>\n",
       "      <td>1</td>\n",
       "      <td>NaN</td>\n",
       "      <td>0</td>\n",
       "      <td>1</td>\n",
       "      <td>1</td>\n",
       "      <td>0</td>\n",
       "    </tr>\n",
       "    <tr>\n",
       "      <th>...</th>\n",
       "      <td>...</td>\n",
       "      <td>...</td>\n",
       "      <td>...</td>\n",
       "      <td>...</td>\n",
       "      <td>...</td>\n",
       "      <td>...</td>\n",
       "      <td>...</td>\n",
       "      <td>...</td>\n",
       "      <td>...</td>\n",
       "      <td>...</td>\n",
       "      <td>...</td>\n",
       "      <td>...</td>\n",
       "      <td>...</td>\n",
       "      <td>...</td>\n",
       "      <td>...</td>\n",
       "      <td>...</td>\n",
       "      <td>...</td>\n",
       "      <td>...</td>\n",
       "      <td>...</td>\n",
       "      <td>...</td>\n",
       "      <td>...</td>\n",
       "    </tr>\n",
       "    <tr>\n",
       "      <th>102067</th>\n",
       "      <td>49</td>\n",
       "      <td>1249</td>\n",
       "      <td>2</td>\n",
       "      <td>5</td>\n",
       "      <td>2</td>\n",
       "      <td>3</td>\n",
       "      <td>2</td>\n",
       "      <td>3</td>\n",
       "      <td>3</td>\n",
       "      <td>3</td>\n",
       "      <td>...</td>\n",
       "      <td>4</td>\n",
       "      <td>3</td>\n",
       "      <td>4</td>\n",
       "      <td>3</td>\n",
       "      <td>230</td>\n",
       "      <td>NaN</td>\n",
       "      <td>1</td>\n",
       "      <td>1</td>\n",
       "      <td>1</td>\n",
       "      <td>0</td>\n",
       "    </tr>\n",
       "    <tr>\n",
       "      <th>102384</th>\n",
       "      <td>58</td>\n",
       "      <td>733</td>\n",
       "      <td>3</td>\n",
       "      <td>3</td>\n",
       "      <td>3</td>\n",
       "      <td>3</td>\n",
       "      <td>3</td>\n",
       "      <td>3</td>\n",
       "      <td>3</td>\n",
       "      <td>3</td>\n",
       "      <td>...</td>\n",
       "      <td>2</td>\n",
       "      <td>4</td>\n",
       "      <td>2</td>\n",
       "      <td>3</td>\n",
       "      <td>55</td>\n",
       "      <td>NaN</td>\n",
       "      <td>1</td>\n",
       "      <td>1</td>\n",
       "      <td>0</td>\n",
       "      <td>0</td>\n",
       "    </tr>\n",
       "    <tr>\n",
       "      <th>102552</th>\n",
       "      <td>29</td>\n",
       "      <td>1107</td>\n",
       "      <td>2</td>\n",
       "      <td>1</td>\n",
       "      <td>1</td>\n",
       "      <td>1</td>\n",
       "      <td>5</td>\n",
       "      <td>1</td>\n",
       "      <td>3</td>\n",
       "      <td>5</td>\n",
       "      <td>...</td>\n",
       "      <td>5</td>\n",
       "      <td>5</td>\n",
       "      <td>3</td>\n",
       "      <td>5</td>\n",
       "      <td>0</td>\n",
       "      <td>NaN</td>\n",
       "      <td>0</td>\n",
       "      <td>0</td>\n",
       "      <td>0</td>\n",
       "      <td>0</td>\n",
       "    </tr>\n",
       "    <tr>\n",
       "      <th>102960</th>\n",
       "      <td>58</td>\n",
       "      <td>1088</td>\n",
       "      <td>4</td>\n",
       "      <td>4</td>\n",
       "      <td>1</td>\n",
       "      <td>1</td>\n",
       "      <td>5</td>\n",
       "      <td>4</td>\n",
       "      <td>5</td>\n",
       "      <td>5</td>\n",
       "      <td>...</td>\n",
       "      <td>5</td>\n",
       "      <td>5</td>\n",
       "      <td>3</td>\n",
       "      <td>5</td>\n",
       "      <td>0</td>\n",
       "      <td>NaN</td>\n",
       "      <td>1</td>\n",
       "      <td>1</td>\n",
       "      <td>0</td>\n",
       "      <td>0</td>\n",
       "    </tr>\n",
       "    <tr>\n",
       "      <th>103540</th>\n",
       "      <td>33</td>\n",
       "      <td>359</td>\n",
       "      <td>4</td>\n",
       "      <td>4</td>\n",
       "      <td>4</td>\n",
       "      <td>3</td>\n",
       "      <td>4</td>\n",
       "      <td>4</td>\n",
       "      <td>4</td>\n",
       "      <td>4</td>\n",
       "      <td>...</td>\n",
       "      <td>5</td>\n",
       "      <td>3</td>\n",
       "      <td>5</td>\n",
       "      <td>4</td>\n",
       "      <td>42</td>\n",
       "      <td>NaN</td>\n",
       "      <td>0</td>\n",
       "      <td>1</td>\n",
       "      <td>1</td>\n",
       "      <td>0</td>\n",
       "    </tr>\n",
       "  </tbody>\n",
       "</table>\n",
       "<p>310 rows × 22 columns</p>\n",
       "</div>"
      ],
      "text/plain": [
       "        Age  Flight Distance  Inflight wifi service  \\\n",
       "213      38              109                      5   \n",
       "1124     53             1012                      3   \n",
       "1529     39              733                      2   \n",
       "2004     26             1035                      3   \n",
       "2108     24              417                      2   \n",
       "...     ...              ...                    ...   \n",
       "102067   49             1249                      2   \n",
       "102384   58              733                      3   \n",
       "102552   29             1107                      2   \n",
       "102960   58             1088                      4   \n",
       "103540   33              359                      4   \n",
       "\n",
       "        Departure/Arrival time convenient  Ease of Online booking  \\\n",
       "213                                     3                       3   \n",
       "1124                                    2                       3   \n",
       "1529                                    5                       5   \n",
       "2004                                    3                       3   \n",
       "2108                                    1                       2   \n",
       "...                                   ...                     ...   \n",
       "102067                                  5                       2   \n",
       "102384                                  3                       3   \n",
       "102552                                  1                       1   \n",
       "102960                                  4                       1   \n",
       "103540                                  4                       4   \n",
       "\n",
       "        Gate location  Food and drink  Online boarding  Seat comfort  \\\n",
       "213                 3               5                5             5   \n",
       "1124                4               4                3             4   \n",
       "1529                5               2                4             3   \n",
       "2004                1               2                3             2   \n",
       "2108                2               5                2             5   \n",
       "...               ...             ...              ...           ...   \n",
       "102067              3               2                3             3   \n",
       "102384              3               3                3             3   \n",
       "102552              1               5                1             3   \n",
       "102960              1               5                4             5   \n",
       "103540              3               4                4             4   \n",
       "\n",
       "        Inflight entertainment  ...  Baggage handling  Checkin service  \\\n",
       "213                          5  ...                 4                1   \n",
       "1124                         4  ...                 4                3   \n",
       "1529                         2  ...                 2                2   \n",
       "2004                         2  ...                 4                5   \n",
       "2108                         5  ...                 2                1   \n",
       "...                        ...  ...               ...              ...   \n",
       "102067                       3  ...                 4                3   \n",
       "102384                       3  ...                 2                4   \n",
       "102552                       5  ...                 5                5   \n",
       "102960                       5  ...                 5                5   \n",
       "103540                       4  ...                 5                3   \n",
       "\n",
       "        Inflight service  Cleanliness  Departure Delay in Minutes  \\\n",
       "213                    1            5                          31   \n",
       "1124                   3            4                          38   \n",
       "1529                   2            3                          11   \n",
       "2004                   5            2                          41   \n",
       "2108                   2            5                           1   \n",
       "...                  ...          ...                         ...   \n",
       "102067                 4            3                         230   \n",
       "102384                 2            3                          55   \n",
       "102552                 3            5                           0   \n",
       "102960                 3            5                           0   \n",
       "103540                 5            4                          42   \n",
       "\n",
       "        Arrival Delay in Minutes  Gender_Male  Customer Type_Loyal Customer  \\\n",
       "213                          NaN            0                             1   \n",
       "1124                         NaN            1                             1   \n",
       "1529                         NaN            1                             1   \n",
       "2004                         NaN            0                             0   \n",
       "2108                         NaN            0                             1   \n",
       "...                          ...          ...                           ...   \n",
       "102067                       NaN            1                             1   \n",
       "102384                       NaN            1                             1   \n",
       "102552                       NaN            0                             0   \n",
       "102960                       NaN            1                             1   \n",
       "103540                       NaN            0                             1   \n",
       "\n",
       "        Type of Travel_Personal Travel  Class_Business  \n",
       "213                                  0               0  \n",
       "1124                                 1               0  \n",
       "1529                                 0               1  \n",
       "2004                                 0               1  \n",
       "2108                                 1               0  \n",
       "...                                ...             ...  \n",
       "102067                               1               0  \n",
       "102384                               0               0  \n",
       "102552                               0               0  \n",
       "102960                               0               0  \n",
       "103540                               1               0  \n",
       "\n",
       "[310 rows x 22 columns]"
      ]
     },
     "execution_count": 7,
     "metadata": {},
     "output_type": "execute_result"
    }
   ],
   "source": [
    "# Check for missing values\n",
    "nan_count = df_encoded.isna().sum().sum()\n",
    "arrival_nan = df_encoded['Arrival Delay in Minutes'].isna().sum()\n",
    "print(\"Training set missing values = \", nan_count)\n",
    "print(\"Arrival column missing values = \", arrival_nan)\n",
    "df_encoded[df_encoded.isna().any(axis=1)]"
   ]
  },
  {
   "cell_type": "code",
   "execution_count": 8,
   "metadata": {
    "colab": {
     "base_uri": "https://localhost:8080/"
    },
    "id": "hO1XEdbh3qui",
    "outputId": "b9ff5e5d-dc78-48b0-b090-289b9bd32eb8",
    "scrolled": true
   },
   "outputs": [
    {
     "name": "stdout",
     "output_type": "stream",
     "text": [
      "Records with any satisfaction score > 5:  0\n",
      "False    103904\n",
      "dtype: int64 \n",
      "\n",
      "Records with any satisfaction score < 0:  0\n",
      "False    103904\n",
      "dtype: int64\n"
     ]
    }
   ],
   "source": [
    "# Check for invalid satisfaction scores (not 0-5)\n",
    "features = df_encoded.columns.tolist()\n",
    "satisfy_features = features[2:16]\n",
    "invalid_5 = (df_encoded[satisfy_features] > 5).any(axis = 1)\n",
    "invalid_0 = (df_encoded[satisfy_features] < 0).any(axis = 1)\n",
    "\n",
    "print(\"Records with any satisfaction score > 5: \", invalid_5.values.sum())\n",
    "print(invalid_5.value_counts(), \"\\n\")\n",
    "print(\"Records with any satisfaction score < 0: \", invalid_0.values.sum())\n",
    "print(invalid_0.value_counts())"
   ]
  },
  {
   "cell_type": "markdown",
   "metadata": {
    "id": "yTM4DPAw3qui"
   },
   "source": [
    "<h3>1.3 Split Into Test & Train Sets & Impute Missing Data</h3>"
   ]
  },
  {
   "cell_type": "code",
   "execution_count": 9,
   "metadata": {
    "colab": {
     "base_uri": "https://localhost:8080/"
    },
    "id": "XGCA3zPI3qui",
    "outputId": "3e33885b-36e3-4769-cfa7-9ae3a76c13d9"
   },
   "outputs": [
    {
     "name": "stdout",
     "output_type": "stream",
     "text": [
      "Training Set Missing values =  0\n",
      "Test Set Missing values =  0\n"
     ]
    }
   ],
   "source": [
    "# split data\n",
    "X_train, X_test, y_train, y_test = train_test_split(df_encoded, labels, test_size=0.2, random_state=42)\n",
    "\n",
    "# Impute Arrival Delay in Minutes column with mean\n",
    "# We're only doing this column since this is the only column with NaN values (seen from above)\n",
    "mean_value_train = X_train['Arrival Delay in Minutes'].mean()\n",
    "X_train['Arrival Delay in Minutes'].fillna(value=mean_value_train, inplace=True)\n",
    "nan_count_train = X_train.isna().sum().sum()\n",
    "print(\"Training Set Missing values = \", nan_count_train)\n",
    "\n",
    "mean_value_test = X_test['Arrival Delay in Minutes'].mean()\n",
    "X_test['Arrival Delay in Minutes'].fillna(value=mean_value_test, inplace=True)\n",
    "nan_count_test = X_test.isna().sum().sum()\n",
    "print(\"Test Set Missing values = \", nan_count_test)"
   ]
  },
  {
   "cell_type": "markdown",
   "metadata": {
    "id": "yd0_elTh3qui"
   },
   "source": [
    "<h2>Step 2: Data Exploration</h2>\n",
    "<h3>2.1 Correlation Matrix</h3>"
   ]
  },
  {
   "cell_type": "code",
   "execution_count": 10,
   "metadata": {
    "colab": {
     "base_uri": "https://localhost:8080/"
    },
    "id": "iw4eX1WL3qui",
    "outputId": "261e069b-2a19-45fb-bd2a-1b7ed1c2ce75"
   },
   "outputs": [
    {
     "name": "stdout",
     "output_type": "stream",
     "text": [
      "Type of Travel_Personal Travel      -0.449025\n",
      "Arrival Delay in Minutes            -0.058794\n",
      "Departure Delay in Minutes          -0.051657\n",
      "Departure/Arrival time convenient   -0.050427\n",
      "Gate location                        0.000248\n",
      "Gender_Male                          0.012337\n",
      "Age                                  0.136607\n",
      "Ease of Online booking               0.170423\n",
      "Customer Type_Loyal Customer         0.186588\n",
      "Food and drink                       0.209592\n",
      "Checkin service                      0.235985\n",
      "Inflight service                     0.243859\n",
      "Baggage handling                     0.246778\n",
      "Inflight wifi service                0.282104\n",
      "Flight Distance                      0.299090\n",
      "Cleanliness                          0.303724\n",
      "Leg room service                     0.311918\n",
      "On-board service                     0.322308\n",
      "Seat comfort                         0.349035\n",
      "Inflight entertainment               0.396520\n",
      "Online boarding                      0.503269\n",
      "Class_Business                       0.506585\n",
      "satisfaction_satisfied               1.000000\n",
      "Name: satisfaction_satisfied, dtype: float64\n"
     ]
    }
   ],
   "source": [
    "# Data Exploration\n",
    "combined_train_df = X_train.join(y_train)\n",
    "sorted_correlations = combined_train_df.corr()['satisfaction_satisfied'].sort_values()\n",
    "print(sorted_correlations)"
   ]
  },
  {
   "cell_type": "markdown",
   "metadata": {
    "id": "vgXagqdMcr5l"
   },
   "source": [
    "<h3>2.2 Check for class imbalance</h3>"
   ]
  },
  {
   "cell_type": "code",
   "execution_count": 11,
   "metadata": {
    "colab": {
     "base_uri": "https://localhost:8080/"
    },
    "id": "-c7U2ZU23qui",
    "outputId": "e4205433-b4e4-4167-95b1-948bfdb58fcc"
   },
   "outputs": [
    {
     "name": "stdout",
     "output_type": "stream",
     "text": [
      "Gender_Male:  [42099 41024]\n",
      "Loyal_Customer:  [67917 15206]\n",
      "Personal_Travel:  [57274 25849]\n",
      "Class_Business:  [43488 39635]\n",
      "Label (Overall Satisfaction):  [47166 35957]\n"
     ]
    }
   ],
   "source": [
    "# Check for class imbalance\n",
    "# Output: [Count of 0s   Count of 1s]\n",
    "\n",
    "print(\"Gender_Male: \", combined_train_df['Gender_Male'].value_counts().values)\n",
    "print(\"Loyal_Customer: \", combined_train_df['Customer Type_Loyal Customer'].value_counts().values)\n",
    "print(\"Personal_Travel: \", combined_train_df['Type of Travel_Personal Travel'].value_counts().values)\n",
    "print(\"Class_Business: \", combined_train_df['Class_Business'].value_counts().values)\n",
    "print(\"Label (Overall Satisfaction): \", combined_train_df['satisfaction_satisfied'].value_counts().values)"
   ]
  },
  {
   "cell_type": "markdown",
   "metadata": {
    "id": "2_8jdnql3qui"
   },
   "source": [
    "<h4>We see class imbalances in customer type, travel type, and a slight imbalance in the class label (overall satisfaction).</h4>\n",
    "<h3>2.3 Visualizing Satisfaction with Ordinal/Binary Features</h3>"
   ]
  },
  {
   "cell_type": "code",
   "execution_count": 12,
   "metadata": {
    "colab": {
     "base_uri": "https://localhost:8080/",
     "height": 466
    },
    "id": "OBdwRtXj3quk",
    "outputId": "76182491-42c0-4ea9-c7ea-91bff4bb7570"
   },
   "outputs": [
    {
     "data": {
      "text/plain": [
       "<matplotlib.legend.Legend at 0x7fb5eb337c40>"
      ]
     },
     "execution_count": 12,
     "metadata": {},
     "output_type": "execute_result"
    },
    {
     "data": {
      "image/png": "[encoded data removed]",
      "text/plain": [
       "<Figure size 640x480 with 1 Axes>"
      ]
     },
     "metadata": {},
     "output_type": "display_data"
    }
   ],
   "source": [
    "X_axis = np.arange(2)\n",
    "business_good = combined_train_df[combined_train_df['satisfaction_satisfied'] == 1]['Class_Business'].value_counts().sort_index().tolist()\n",
    "business_bad = combined_train_df[combined_train_df['satisfaction_satisfied'] == 0]['Class_Business'].value_counts().sort_index().tolist()\n",
    "\n",
    "pyplot.bar(X_axis - 0.2, business_good, 0.4, label = \"Satisfied\")\n",
    "pyplot.bar(X_axis + 0.2, business_bad, 0.4, label = \"Not satisfied\")\n",
    "pyplot.xlabel(\"Class Business\")\n",
    "pyplot.ylabel(\"Frequency\")\n",
    "pyplot.xticks(X_axis, ['False', 'True'])\n",
    "pyplot.legend()"
   ]
  },
  {
   "cell_type": "markdown",
   "metadata": {
    "id": "rg5Sm0uhcr5m"
   },
   "source": [
    "*The graph indicates that people who flew in business class were on average more satisfied than those who did not.*"
   ]
  },
  {
   "cell_type": "code",
   "execution_count": 13,
   "metadata": {
    "colab": {
     "base_uri": "https://localhost:8080/",
     "height": 466
    },
    "id": "YjTKhCwp3qul",
    "outputId": "7e42c547-112a-4930-c70b-b5fcabe9ade6"
   },
   "outputs": [
    {
     "data": {
      "text/plain": [
       "<matplotlib.legend.Legend at 0x7fb598118040>"
      ]
     },
     "execution_count": 13,
     "metadata": {},
     "output_type": "execute_result"
    },
    {
     "data": {
      "image/png": "[encoded data removed]",
      "text/plain": [
       "<Figure size 640x480 with 1 Axes>"
      ]
     },
     "metadata": {},
     "output_type": "display_data"
    }
   ],
   "source": [
    "X_axis = np.arange(6)\n",
    "seat_good = combined_train_df[combined_train_df['satisfaction_satisfied'] == 1]['Seat comfort'].value_counts().sort_index().tolist()\n",
    "seat_bad = combined_train_df[combined_train_df['satisfaction_satisfied'] == 0]['Seat comfort'].value_counts().sort_index().tolist()\n",
    "seat_good.insert(0,0)\n",
    "\n",
    "pyplot.bar(X_axis - 0.2, seat_good, 0.4, label = \"Satisfied\")\n",
    "pyplot.bar(X_axis + 0.2, seat_bad, 0.4, label = \"Not satisfied\")\n",
    "pyplot.xlabel(\"Seat Comfort\")\n",
    "pyplot.ylabel(\"Frequency\")\n",
    "pyplot.legend()"
   ]
  },
  {
   "cell_type": "markdown",
   "metadata": {
    "id": "yqc5Z-7Ecr5n"
   },
   "source": [
    "*The graph indicates that there is a clear correlation between seat comfort and overall satisfaction. The more comfortable the seat, the more likely the customer is to be satisfied.*"
   ]
  },
  {
   "cell_type": "code",
   "execution_count": 13,
   "metadata": {
    "colab": {
     "base_uri": "https://localhost:8080/",
     "height": 466
    },
    "id": "musEyIjp3qul",
    "outputId": "b6eb5674-5afb-431d-e49b-0757f4ef9e80"
   },
   "outputs": [
    {
     "data": {
      "text/plain": [
       "<matplotlib.legend.Legend at 0x7f65e77b6970>"
      ]
     },
     "execution_count": 13,
     "metadata": {},
     "output_type": "execute_result"
    },
    {
     "data": {
      "image/png": "[encoded data removed]",
      "text/plain": [
       "<Figure size 640x480 with 1 Axes>"
      ]
     },
     "metadata": {},
     "output_type": "display_data"
    }
   ],
   "source": [
    "X_axis = np.arange(6)\n",
    "entertain_good = combined_train_df[combined_train_df['satisfaction_satisfied'] == 1]['Inflight entertainment'].value_counts().sort_index().tolist()\n",
    "entertain_bad = combined_train_df[combined_train_df['satisfaction_satisfied'] == 0]['Inflight entertainment'].value_counts().sort_index().tolist()\n",
    "entertain_good.insert(0,0)\n",
    "\n",
    "pyplot.bar(X_axis - 0.2, entertain_good, 0.4, label = \"Satisfied\")\n",
    "pyplot.bar(X_axis + 0.2, entertain_bad, 0.4, label = \"Not satisfied\")\n",
    "pyplot.xlabel(\"Inflight Entertainment Satisfaction\")\n",
    "pyplot.ylabel(\"Frequency\")\n",
    "pyplot.legend()"
   ]
  },
  {
   "cell_type": "code",
   "execution_count": 14,
   "metadata": {
    "colab": {
     "base_uri": "https://localhost:8080/",
     "height": 470
    },
    "id": "0BLLOpXM3qul",
    "outputId": "d3a33b55-358d-44ff-e221-4782c9e3e99f",
    "scrolled": false
   },
   "outputs": [
    {
     "data": {
      "text/plain": [
       "<matplotlib.legend.Legend at 0x7f65e76dfdf0>"
      ]
     },
     "execution_count": 14,
     "metadata": {},
     "output_type": "execute_result"
    },
    {
     "data": {
      "image/png": "[encoded data removed]",
      "text/plain": [
       "<Figure size 640x480 with 1 Axes>"
      ]
     },
     "metadata": {},
     "output_type": "display_data"
    }
   ],
   "source": [
    "X_axis = np.arange(6)\n",
    "boarding_good = combined_train_df[combined_train_df['satisfaction_satisfied'] == 1]['Online boarding'].value_counts().sort_index().tolist()\n",
    "boarding_bad = combined_train_df[combined_train_df['satisfaction_satisfied'] == 0]['Online boarding'].value_counts().sort_index().tolist()\n",
    "pyplot.bar(X_axis - 0.2, boarding_good, 0.4, label = \"Satisfied\")\n",
    "pyplot.bar(X_axis + 0.2, boarding_bad, 0.4, label = \"Not satisfied\")\n",
    "pyplot.xlabel(\"Online Boarding Satisfaction\")\n",
    "pyplot.ylabel(\"Frequency\")\n",
    "pyplot.legend()"
   ]
  },
  {
   "cell_type": "markdown",
   "metadata": {
    "id": "3LH9733P3qul"
   },
   "source": [
    "*These last two side-by-side bar charts show that there is a noticeable correlation between online boarding satisfaction and overall satisfaction as well as inflight entertainment satisfaction and overall satisfaction. People who were satisfied overall are more likely to give a high rating in these categories while people who were neutral or not satisfied overall are more likely to give mid to lower ratings in these categories.*"
   ]
  },
  {
   "cell_type": "code",
   "execution_count": 15,
   "metadata": {
    "colab": {
     "base_uri": "https://localhost:8080/",
     "height": 466
    },
    "id": "qoqDJdLz3qul",
    "outputId": "6c5fbf30-6dad-44f7-a370-78aa43f880da",
    "scrolled": false
   },
   "outputs": [
    {
     "data": {
      "text/plain": [
       "<matplotlib.legend.Legend at 0x7fb5981ab2e0>"
      ]
     },
     "execution_count": 15,
     "metadata": {},
     "output_type": "execute_result"
    },
    {
     "data": {
      "image/png": "[encoded data removed]",
      "text/plain": [
       "<Figure size 640x480 with 1 Axes>"
      ]
     },
     "metadata": {},
     "output_type": "display_data"
    }
   ],
   "source": [
    "X_axis = np.arange(6)\n",
    "gate_good = combined_train_df[combined_train_df['satisfaction_satisfied'] == 1]['Gate location'].value_counts().sort_index().tolist()\n",
    "gate_bad = combined_train_df[combined_train_df['satisfaction_satisfied'] == 0]['Gate location'].value_counts().sort_index().tolist()\n",
    "gate_bad.insert(0,0)\n",
    "pyplot.bar(X_axis - 0.2, gate_good, 0.4, label = \"Satisfied\")\n",
    "pyplot.bar(X_axis + 0.2, gate_bad, 0.4, label = \"Not satisfied\")\n",
    "pyplot.xlabel(\"Gate Location Satisfaction\")\n",
    "pyplot.ylabel(\"Frequency\")\n",
    "pyplot.legend()"
   ]
  },
  {
   "cell_type": "markdown",
   "metadata": {
    "id": "JvgutXDm3qul"
   },
   "source": [
    "*There doesn't seem to be as strong of a correlation/pattern between satisfaction of gate location and overall satisfaction. For all customers who were satisfied overall, the distribution of satisfaction with gate location is relatively equal across 1-5. The higher number of 3s and 4s for customers who were not satisfied can be attributed to the class imbalance of overall satisfaction - more customers were neutral or dissatisfied than satisfied, so the peak in 3s and 4s ratings of gate location satisfaction from not-satisfied customers is merely because there are more of them. We explore this feature further in feature engineering.*"
   ]
  },
  {
   "cell_type": "markdown",
   "metadata": {
    "id": "xVp6EbQKcr5n"
   },
   "source": [
    "<h3>2.4 Visualizing Satisfaction with Continuous Features</h3>"
   ]
  },
  {
   "cell_type": "code",
   "execution_count": 16,
   "metadata": {
    "colab": {
     "base_uri": "https://localhost:8080/",
     "height": 175
    },
    "id": "AEE1nTjy3qum",
    "outputId": "36b48a5c-f01c-45be-ab17-a89687d85667",
    "scrolled": false
   },
   "outputs": [
    {
     "data": {
      "text/html": [
       "\n",
       "  <div id=\"df-e93f33c5-f195-4e66-826d-76d69d9075d6\">\n",
       "    <div class=\"colab-df-container\">\n",
       "      <div>\n",
       "<style scoped>\n",
       "    .dataframe tbody tr th:only-of-type {\n",
       "        vertical-align: middle;\n",
       "    }\n",
       "\n",
       "    .dataframe tbody tr th {\n",
       "        vertical-align: top;\n",
       "    }\n",
       "\n",
       "    .dataframe thead th {\n",
       "        text-align: right;\n",
       "    }\n",
       "</style>\n",
       "<table border=\"1\" class=\"dataframe\">\n",
       "  <thead>\n",
       "    <tr style=\"text-align: right;\">\n",
       "      <th></th>\n",
       "      <th>Age</th>\n",
       "      <th>Flight Distance</th>\n",
       "      <th>Departure Delay in Minutes</th>\n",
       "      <th>Arrival Delay in Minutes</th>\n",
       "    </tr>\n",
       "  </thead>\n",
       "  <tbody>\n",
       "    <tr>\n",
       "      <th>Age</th>\n",
       "      <td>1.000000</td>\n",
       "      <td>0.101929</td>\n",
       "      <td>-0.009716</td>\n",
       "      <td>-0.011506</td>\n",
       "    </tr>\n",
       "    <tr>\n",
       "      <th>Flight Distance</th>\n",
       "      <td>0.101929</td>\n",
       "      <td>1.000000</td>\n",
       "      <td>0.003245</td>\n",
       "      <td>-0.001307</td>\n",
       "    </tr>\n",
       "    <tr>\n",
       "      <th>Departure Delay in Minutes</th>\n",
       "      <td>-0.009716</td>\n",
       "      <td>0.003245</td>\n",
       "      <td>1.000000</td>\n",
       "      <td>0.961775</td>\n",
       "    </tr>\n",
       "    <tr>\n",
       "      <th>Arrival Delay in Minutes</th>\n",
       "      <td>-0.011506</td>\n",
       "      <td>-0.001307</td>\n",
       "      <td>0.961775</td>\n",
       "      <td>1.000000</td>\n",
       "    </tr>\n",
       "  </tbody>\n",
       "</table>\n",
       "</div>\n",
       "      <button class=\"colab-df-convert\" onclick=\"convertToInteractive('df-e93f33c5-f195-4e66-826d-76d69d9075d6')\"\n",
       "              title=\"Convert this dataframe to an interactive table.\"\n",
       "              style=\"display:none;\">\n",
       "        \n",
       "  <svg xmlns=\"http://www.w3.org/2000/svg\" height=\"24px\"viewBox=\"0 0 24 24\"\n",
       "       width=\"24px\">\n",
       "    <path d=\"M0 0h24v24H0V0z\" fill=\"none\"/>\n",
       "    <path d=\"M18.56 5.44l.94 2.06.94-2.06 2.06-.94-2.06-.94-.94-2.06-.94 2.06-2.06.94zm-11 1L8.5 8.5l.94-2.06 2.06-.94-2.06-.94L8.5 2.5l-.94 2.06-2.06.94zm10 10l.94 2.06.94-2.06 2.06-.94-2.06-.94-.94-2.06-.94 2.06-2.06.94z\"/><path d=\"M17.41 7.96l-1.37-1.37c-.4-.4-.92-.59-1.43-.59-.52 0-1.04.2-1.43.59L10.3 9.45l-7.72 7.72c-.78.78-.78 2.05 0 2.83L4 21.41c.39.39.9.59 1.41.59.51 0 1.02-.2 1.41-.59l7.78-7.78 2.81-2.81c.8-.78.8-2.07 0-2.86zM5.41 20L4 18.59l7.72-7.72 1.47 1.35L5.41 20z\"/>\n",
       "  </svg>\n",
       "      </button>\n",
       "      \n",
       "  <style>\n",
       "    .colab-df-container {\n",
       "      display:flex;\n",
       "      flex-wrap:wrap;\n",
       "      gap: 12px;\n",
       "    }\n",
       "\n",
       "    .colab-df-convert {\n",
       "      background-color: #E8F0FE;\n",
       "      border: none;\n",
       "      border-radius: 50%;\n",
       "      cursor: pointer;\n",
       "      display: none;\n",
       "      fill: #1967D2;\n",
       "      height: 32px;\n",
       "      padding: 0 0 0 0;\n",
       "      width: 32px;\n",
       "    }\n",
       "\n",
       "    .colab-df-convert:hover {\n",
       "      background-color: #E2EBFA;\n",
       "      box-shadow: 0px 1px 2px rgba(60, 64, 67, 0.3), 0px 1px 3px 1px rgba(60, 64, 67, 0.15);\n",
       "      fill: #174EA6;\n",
       "    }\n",
       "\n",
       "    [theme=dark] .colab-df-convert {\n",
       "      background-color: #3B4455;\n",
       "      fill: #D2E3FC;\n",
       "    }\n",
       "\n",
       "    [theme=dark] .colab-df-convert:hover {\n",
       "      background-color: #434B5C;\n",
       "      box-shadow: 0px 1px 3px 1px rgba(0, 0, 0, 0.15);\n",
       "      filter: drop-shadow(0px 1px 2px rgba(0, 0, 0, 0.3));\n",
       "      fill: #FFFFFF;\n",
       "    }\n",
       "  </style>\n",
       "\n",
       "      <script>\n",
       "        const buttonEl =\n",
       "          document.querySelector('#df-e93f33c5-f195-4e66-826d-76d69d9075d6 button.colab-df-convert');\n",
       "        buttonEl.style.display =\n",
       "          google.colab.kernel.accessAllowed ? 'block' : 'none';\n",
       "\n",
       "        async function convertToInteractive(key) {\n",
       "          const element = document.querySelector('#df-e93f33c5-f195-4e66-826d-76d69d9075d6');\n",
       "          const dataTable =\n",
       "            await google.colab.kernel.invokeFunction('convertToInteractive',\n",
       "                                                     [key], {});\n",
       "          if (!dataTable) return;\n",
       "\n",
       "          const docLinkHtml = 'Like what you see? Visit the ' +\n",
       "            '<a target=\"_blank\" href=https://colab.research.google.com/notebooks/data_table.ipynb>data table notebook</a>'\n",
       "            + ' to learn more about interactive tables.';\n",
       "          element.innerHTML = '';\n",
       "          dataTable['output_type'] = 'display_data';\n",
       "          await google.colab.output.renderOutput(dataTable, element);\n",
       "          const docLink = document.createElement('div');\n",
       "          docLink.innerHTML = docLinkHtml;\n",
       "          element.appendChild(docLink);\n",
       "        }\n",
       "      </script>\n",
       "    </div>\n",
       "  </div>\n",
       "  "
      ],
      "text/plain": [
       "                                 Age  Flight Distance  \\\n",
       "Age                         1.000000         0.101929   \n",
       "Flight Distance             0.101929         1.000000   \n",
       "Departure Delay in Minutes -0.009716         0.003245   \n",
       "Arrival Delay in Minutes   -0.011506        -0.001307   \n",
       "\n",
       "                            Departure Delay in Minutes  \\\n",
       "Age                                          -0.009716   \n",
       "Flight Distance                               0.003245   \n",
       "Departure Delay in Minutes                    1.000000   \n",
       "Arrival Delay in Minutes                      0.961775   \n",
       "\n",
       "                            Arrival Delay in Minutes  \n",
       "Age                                        -0.011506  \n",
       "Flight Distance                            -0.001307  \n",
       "Departure Delay in Minutes                  0.961775  \n",
       "Arrival Delay in Minutes                    1.000000  "
      ]
     },
     "execution_count": 16,
     "metadata": {},
     "output_type": "execute_result"
    }
   ],
   "source": [
    "continuous_df = combined_train_df[['Age', 'Flight Distance', 'Departure Delay in Minutes', 'Arrival Delay in Minutes']]\n",
    "pd.DataFrame.corr(continuous_df)"
   ]
  },
  {
   "cell_type": "code",
   "execution_count": 16,
   "metadata": {
    "colab": {
     "base_uri": "https://localhost:8080/",
     "height": 466
    },
    "id": "obyUKt-33qum",
    "outputId": "43a4ce86-d316-40b8-d5b7-863a0749f5c3"
   },
   "outputs": [
    {
     "name": "stdout",
     "output_type": "stream",
     "text": [
      "Correlation:  0.9617754454627355\n"
     ]
    },
    {
     "data": {
      "image/png": "[encoded data removed]",
      "text/plain": [
       "<Figure size 640x480 with 1 Axes>"
      ]
     },
     "metadata": {},
     "output_type": "display_data"
    }
   ],
   "source": [
    "arrival = combined_train_df['Arrival Delay in Minutes']\n",
    "departure = combined_train_df['Departure Delay in Minutes']\n",
    "plt.scatter(arrival, departure)\n",
    "plt.xlabel(\"Arrival Delay in Minutes\")\n",
    "plt.ylabel(\"Departure Delay in Minutes\")\n",
    "print(\"Correlation: \", arrival.corr(departure))"
   ]
  },
  {
   "cell_type": "markdown",
   "metadata": {
    "id": "tqRCLtZ73qum"
   },
   "source": [
    "*The correlation table of continuous variables and the above scatter plot indicate that arrival and departure delay are highly correlated, which we can take advantage of in feature engineering.*"
   ]
  },
  {
   "cell_type": "code",
   "execution_count": 18,
   "metadata": {
    "colab": {
     "base_uri": "https://localhost:8080/",
     "height": 449
    },
    "id": "tbEqOvOP3qum",
    "outputId": "5ed6adda-7198-49b4-b205-769fb8fdd6b8"
   },
   "outputs": [
    {
     "data": {
      "image/png": "[encoded data removed]",
      "text/plain": [
       "<Figure size 640x480 with 1 Axes>"
      ]
     },
     "metadata": {},
     "output_type": "display_data"
    }
   ],
   "source": [
    "age_good = combined_train_df[combined_train_df['satisfaction_satisfied'] == 1]['Age']\n",
    "age_bad = combined_train_df[combined_train_df['satisfaction_satisfied'] == 0]['Age']\n",
    "\n",
    "plt.hist(age_good, bins=15, alpha=0.5, label='Satisfied')\n",
    "plt.hist(age_bad, bins=15, alpha=0.5, label='Not satisfied')\n",
    "plt.legend(loc='upper right')\n",
    "plt.xlabel('Age')\n",
    "plt.ylabel('Frequency')\n",
    "plt.show()"
   ]
  },
  {
   "cell_type": "markdown",
   "metadata": {
    "id": "xL19RuPxcr5o"
   },
   "source": [
    "*The graph indicates that younger people are more likely to be not satisfied compared to middle-aged people.*"
   ]
  },
  {
   "cell_type": "code",
   "execution_count": 19,
   "metadata": {
    "colab": {
     "base_uri": "https://localhost:8080/",
     "height": 449
    },
    "id": "WQ91_NtP3qum",
    "outputId": "2ad9f46c-4c27-4068-9239-babf981b2d8c"
   },
   "outputs": [
    {
     "data": {
      "image/png": "[encoded data removed]",
      "text/plain": [
       "<Figure size 640x480 with 1 Axes>"
      ]
     },
     "metadata": {},
     "output_type": "display_data"
    }
   ],
   "source": [
    "dist_good = combined_train_df[combined_train_df['satisfaction_satisfied'] == 1]['Flight Distance']\n",
    "dist_bad = combined_train_df[combined_train_df['satisfaction_satisfied'] == 0]['Flight Distance']\n",
    "\n",
    "plt.hist(dist_good, bins=12, alpha=0.5, label='Satisfied')\n",
    "plt.hist(dist_bad, bins=12, alpha=0.5, label='Not satisfied')\n",
    "plt.legend(loc='upper right')\n",
    "plt.xlabel('Flight Distance')\n",
    "plt.ylabel('Frequency')\n",
    "plt.show()"
   ]
  },
  {
   "cell_type": "markdown",
   "metadata": {
    "id": "J48qSlg5cr5o"
   },
   "source": [
    "*The graph indicates that people who flew further were more likely to be satisfied.*\n",
    "\n",
    "**We notice that there is a heavy skew in the distribution of flight distance and satisfcation, so we analyze outliers.**"
   ]
  },
  {
   "cell_type": "code",
   "execution_count": 20,
   "metadata": {
    "colab": {
     "base_uri": "https://localhost:8080/",
     "height": 466
    },
    "id": "v1a9Teb_3qum",
    "outputId": "f2d04636-57bc-45aa-bb83-43cd17dfb9e9",
    "scrolled": false
   },
   "outputs": [
    {
     "data": {
      "text/plain": [
       "[Text(0.5, 0, 'Satisfaction')]"
      ]
     },
     "execution_count": 20,
     "metadata": {},
     "output_type": "execute_result"
    },
    {
     "data": {
      "image/png": "[encoded data removed]",
      "text/plain": [
       "<Figure size 640x480 with 1 Axes>"
      ]
     },
     "metadata": {},
     "output_type": "display_data"
    }
   ],
   "source": [
    "sns.boxplot(x = \"satisfaction_satisfied\", y = \"Flight Distance\", data=combined_train_df).set(xlabel = \"Satisfaction\")"
   ]
  },
  {
   "cell_type": "code",
   "execution_count": 21,
   "metadata": {
    "colab": {
     "base_uri": "https://localhost:8080/"
    },
    "id": "AXWV45nL3qum",
    "outputId": "ce6a0408-b01d-49c9-c9d8-f55b5d3988ae",
    "scrolled": true
   },
   "outputs": [
    {
     "name": "stdout",
     "output_type": "stream",
     "text": [
      "Number of outliers:  19\n",
      "Proportion of outliers:  0.00040283254886994867\n"
     ]
    }
   ],
   "source": [
    "# Outliers in Flight Distance column\n",
    "outliers = dist_bad[dist_bad > 4000]\n",
    "print(\"Number of outliers: \", len(outliers))\n",
    "print(\"Proportion of outliers: \", len(outliers)/len(dist_bad))"
   ]
  },
  {
   "cell_type": "markdown",
   "metadata": {
    "id": "vBmA1tZr3qum"
   },
   "source": [
    "*Since a very small proportion of the data in the flight distance column can be considered extreme outliers, these values will not have a huge impact on our data and we shall keep them to preserve the dataset's natural variance.*"
   ]
  },
  {
   "cell_type": "markdown",
   "metadata": {
    "id": "6MF1qx9N3qum"
   },
   "source": [
    "<h2>3. Feature Engineering</h2>\n",
    "<h3>3.1: Create New Features</h3>"
   ]
  },
  {
   "cell_type": "code",
   "execution_count": 17,
   "metadata": {
    "id": "S0YJEZ5z0YX5"
   },
   "outputs": [],
   "source": [
    "# Create new features of the dataset\n",
    "# Average satisfaction might be a good feature in lieu of the 12 satisfaction columns.\n",
    "combined_train_df['avg_satisfactions'] = (combined_train_df['Food and drink'] + \n",
    "                                          combined_train_df['Inflight entertainment'] + \n",
    "                                          combined_train_df['Gate location'] + \n",
    "                                          combined_train_df['Seat comfort'] + \n",
    "                                          combined_train_df['Ease of Online booking'] + \n",
    "                                          combined_train_df['Online boarding'] + \n",
    "                                          combined_train_df['On-board service'] + \n",
    "                                          combined_train_df['Leg room service'] + \n",
    "                                          combined_train_df['Baggage handling'] + \n",
    "                                          combined_train_df['Checkin service'] + \n",
    "                                          combined_train_df['Inflight service'] + \n",
    "                                          combined_train_df['Cleanliness'])/12\n",
    "\n",
    "# Binning the age column because of data we collected earlier about young people being less likely to be satisfied\n",
    "combined_train_df['Age_bins'] = combined_train_df['Age'].apply(lambda x: 0 if x < 30 else 1 if x < 40 else 2 if x < 50 else 3 if x < 60 else 4)"
   ]
  },
  {
   "cell_type": "code",
   "execution_count": 18,
   "metadata": {},
   "outputs": [
    {
     "name": "stdout",
     "output_type": "stream",
     "text": [
      "Average satisfaction correlation: 0.5287129593779584\n",
      "Binned age correlation: 0.11942848649800102\n"
     ]
    }
   ],
   "source": [
    "avg_satisfaction = combined_train_df['avg_satisfactions']\n",
    "binned_age = combined_train_df['Age_bins']\n",
    "class_label = combined_train_df['satisfaction_satisfied']\n",
    "\n",
    "print(\"Average satisfaction correlation:\", avg_satisfaction.corr(class_label))\n",
    "print(\"Binned age correlation:\", binned_age.corr(class_label))"
   ]
  },
  {
   "cell_type": "markdown",
   "metadata": {},
   "source": [
    "Binned age has a low correlation with the class label (overall satisfaction), so we don't expect this feature to have much impact on a customer's rating. Binned age will probably be dropped or reduced in some way after we run PCA. However, average satisfaction has a much higher correlation than binned age, so we expect that this feature has a higher impact on a customer's overall rating and will be retained more after PCA."
   ]
  },
  {
   "cell_type": "markdown",
   "metadata": {
    "id": "vf2ObBko0YX5"
   },
   "source": [
    "<h3>3.2 Check for Unncessary Features</h3>"
   ]
  },
  {
   "cell_type": "code",
   "execution_count": 19,
   "metadata": {
    "colab": {
     "base_uri": "https://localhost:8080/"
    },
    "id": "0oJacMwA3qum",
    "outputId": "523599dc-680e-4d65-e6b9-57a4beb1dce8",
    "scrolled": false
   },
   "outputs": [
    {
     "data": {
      "text/plain": [
       "Customer Type_Loyal Customer              0.149471\n",
       "Type of Travel_Personal Travel            0.214271\n",
       "satisfaction_satisfied                    0.245457\n",
       "Class_Business                            0.249466\n",
       "Gender_Male                               0.249961\n",
       "avg_satisfactions                         0.456022\n",
       "Inflight service                          1.380820\n",
       "Baggage handling                          1.395887\n",
       "Checkin service                           1.600377\n",
       "Gate location                             1.629589\n",
       "On-board service                          1.657358\n",
       "Cleanliness                               1.719543\n",
       "Leg room service                          1.727557\n",
       "Seat comfort                              1.740464\n",
       "Food and drink                            1.762471\n",
       "Inflight wifi service                     1.762939\n",
       "Age_bins                                  1.765344\n",
       "Inflight entertainment                    1.773334\n",
       "Online boarding                           1.821080\n",
       "Ease of Online booking                    1.956635\n",
       "Departure/Arrival time convenient         2.333006\n",
       "Age                                     228.725759\n",
       "Departure Delay in Minutes             1481.837017\n",
       "Arrival Delay in Minutes               1514.901874\n",
       "Flight Distance                      993890.749664\n",
       "dtype: float64"
      ]
     },
     "execution_count": 19,
     "metadata": {},
     "output_type": "execute_result"
    }
   ],
   "source": [
    "# Check for low variance in columns\n",
    "combined_train_df.var().sort_values()"
   ]
  },
  {
   "cell_type": "markdown",
   "metadata": {
    "id": "eMo_74hp3qum"
   },
   "source": [
    "*No columns have unusally low variances. The only columns with seemingly low variances are the binary/ordinal columns, so it is normal for them to have low variances.*"
   ]
  },
  {
   "cell_type": "code",
   "execution_count": 49,
   "metadata": {
    "colab": {
     "base_uri": "https://localhost:8080/"
    },
    "id": "SKzXLsdk3qum",
    "outputId": "17705204-83b3-40fa-e3d3-04d3d21ade7f"
   },
   "outputs": [
    {
     "name": "stdout",
     "output_type": "stream",
     "text": [
      "[[    0     1]\n",
      " [ 7032  6962]\n",
      " [ 8407  7166]\n",
      " [15041  7883]\n",
      " [11953  7576]\n",
      " [ 4733  6369]]\n",
      "Statistic:  2088.8551892393652\n",
      "P-value:  0.0\n"
     ]
    }
   ],
   "source": [
    "# Test for independence of gate location and overall satisfaction\n",
    "chisqt = pd.crosstab(combined_train_df['Gate location'], y_train, margins = True)\n",
    "table = np.array(chisqt.iloc[0:6, 0:2].values)\n",
    "print(table)\n",
    "\n",
    "result = chi2_contingency(table, lambda_=\"log-likelihood\")\n",
    "print(\"Statistic: \", result[0])\n",
    "print(\"P-value: \", result[1])"
   ]
  },
  {
   "cell_type": "markdown",
   "metadata": {
    "id": "R12L-ABf3qun"
   },
   "source": [
    "*When performing data exploration, the side-by-side bar plot showed that gate location satisfaction did not seem to have a significant relationship/correlation with overall satisfaction. However, since the chi-squared test yielded a small p-value (under the null hypothesis that the variables are independent), we reject the null hypothesis and conclude that the variables are dependent.*\\\n",
    "**Based on the chi-squared test for independence, we do not drop the gate location feature.**"
   ]
  },
  {
   "cell_type": "markdown",
   "metadata": {
    "id": "FUJRycat0YX5"
   },
   "source": [
    "<h3>3.2 Scaling and PCA</h3>"
   ]
  },
  {
   "cell_type": "code",
   "execution_count": 20,
   "metadata": {
    "colab": {
     "base_uri": "https://localhost:8080/",
     "height": 352
    },
    "id": "_3YNTX653qun",
    "outputId": "a07269cf-f389-4571-d95b-db62bf7f5429",
    "scrolled": true
   },
   "outputs": [
    {
     "data": {
      "text/html": [
       "<div>\n",
       "<style scoped>\n",
       "    .dataframe tbody tr th:only-of-type {\n",
       "        vertical-align: middle;\n",
       "    }\n",
       "\n",
       "    .dataframe tbody tr th {\n",
       "        vertical-align: top;\n",
       "    }\n",
       "\n",
       "    .dataframe thead th {\n",
       "        text-align: right;\n",
       "    }\n",
       "</style>\n",
       "<table border=\"1\" class=\"dataframe\">\n",
       "  <thead>\n",
       "    <tr style=\"text-align: right;\">\n",
       "      <th></th>\n",
       "      <th>Age</th>\n",
       "      <th>Flight Distance</th>\n",
       "      <th>Inflight wifi service</th>\n",
       "      <th>Departure/Arrival time convenient</th>\n",
       "      <th>Ease of Online booking</th>\n",
       "      <th>Gate location</th>\n",
       "      <th>Food and drink</th>\n",
       "      <th>Online boarding</th>\n",
       "      <th>Seat comfort</th>\n",
       "      <th>Inflight entertainment</th>\n",
       "      <th>...</th>\n",
       "      <th>Baggage handling</th>\n",
       "      <th>Checkin service</th>\n",
       "      <th>Inflight service</th>\n",
       "      <th>Cleanliness</th>\n",
       "      <th>Departure Delay in Minutes</th>\n",
       "      <th>Arrival Delay in Minutes</th>\n",
       "      <th>Gender_Male</th>\n",
       "      <th>Customer Type_Loyal Customer</th>\n",
       "      <th>Type of Travel_Personal Travel</th>\n",
       "      <th>Class_Business</th>\n",
       "    </tr>\n",
       "  </thead>\n",
       "  <tbody>\n",
       "    <tr>\n",
       "      <th>0</th>\n",
       "      <td>1.299867</td>\n",
       "      <td>-0.143103</td>\n",
       "      <td>0.956377</td>\n",
       "      <td>1.271553</td>\n",
       "      <td>0.887405</td>\n",
       "      <td>-1.549472</td>\n",
       "      <td>1.354730</td>\n",
       "      <td>0.558180</td>\n",
       "      <td>1.185329</td>\n",
       "      <td>-1.017279</td>\n",
       "      <td>...</td>\n",
       "      <td>-0.532883</td>\n",
       "      <td>1.339119</td>\n",
       "      <td>-1.395033</td>\n",
       "      <td>0.547515</td>\n",
       "      <td>-0.074078</td>\n",
       "      <td>-0.313709</td>\n",
       "      <td>-0.987150</td>\n",
       "      <td>0.473171</td>\n",
       "      <td>1.488528</td>\n",
       "      <td>-0.954673</td>\n",
       "    </tr>\n",
       "    <tr>\n",
       "      <th>1</th>\n",
       "      <td>0.043551</td>\n",
       "      <td>-0.438007</td>\n",
       "      <td>0.956377</td>\n",
       "      <td>0.616850</td>\n",
       "      <td>0.887405</td>\n",
       "      <td>-0.766108</td>\n",
       "      <td>-1.658287</td>\n",
       "      <td>0.558180</td>\n",
       "      <td>1.185329</td>\n",
       "      <td>-1.768222</td>\n",
       "      <td>...</td>\n",
       "      <td>0.313521</td>\n",
       "      <td>-0.241843</td>\n",
       "      <td>1.157994</td>\n",
       "      <td>-1.740281</td>\n",
       "      <td>0.107766</td>\n",
       "      <td>0.354302</td>\n",
       "      <td>-0.987150</td>\n",
       "      <td>-2.113400</td>\n",
       "      <td>-0.671805</td>\n",
       "      <td>1.047479</td>\n",
       "    </tr>\n",
       "    <tr>\n",
       "      <th>2</th>\n",
       "      <td>1.696598</td>\n",
       "      <td>-0.808142</td>\n",
       "      <td>-0.549931</td>\n",
       "      <td>-0.037854</td>\n",
       "      <td>-0.542403</td>\n",
       "      <td>-1.549472</td>\n",
       "      <td>-1.658287</td>\n",
       "      <td>-0.923888</td>\n",
       "      <td>-1.846677</td>\n",
       "      <td>-1.768222</td>\n",
       "      <td>...</td>\n",
       "      <td>1.159924</td>\n",
       "      <td>1.339119</td>\n",
       "      <td>1.157994</td>\n",
       "      <td>-1.740281</td>\n",
       "      <td>-0.385812</td>\n",
       "      <td>-0.390787</td>\n",
       "      <td>1.013017</td>\n",
       "      <td>0.473171</td>\n",
       "      <td>1.488528</td>\n",
       "      <td>-0.954673</td>\n",
       "    </tr>\n",
       "    <tr>\n",
       "      <th>3</th>\n",
       "      <td>2.027207</td>\n",
       "      <td>1.053565</td>\n",
       "      <td>0.203223</td>\n",
       "      <td>1.271553</td>\n",
       "      <td>0.172501</td>\n",
       "      <td>0.800620</td>\n",
       "      <td>-0.151778</td>\n",
       "      <td>1.299214</td>\n",
       "      <td>0.427327</td>\n",
       "      <td>1.235552</td>\n",
       "      <td>...</td>\n",
       "      <td>1.159924</td>\n",
       "      <td>-0.241843</td>\n",
       "      <td>1.157994</td>\n",
       "      <td>1.310114</td>\n",
       "      <td>-0.385812</td>\n",
       "      <td>-0.390787</td>\n",
       "      <td>-0.987150</td>\n",
       "      <td>0.473171</td>\n",
       "      <td>1.488528</td>\n",
       "      <td>-0.954673</td>\n",
       "    </tr>\n",
       "    <tr>\n",
       "      <th>4</th>\n",
       "      <td>-0.948277</td>\n",
       "      <td>0.169856</td>\n",
       "      <td>-0.549931</td>\n",
       "      <td>-0.692557</td>\n",
       "      <td>-0.542403</td>\n",
       "      <td>0.017256</td>\n",
       "      <td>-1.658287</td>\n",
       "      <td>-0.923888</td>\n",
       "      <td>-1.846677</td>\n",
       "      <td>-1.768222</td>\n",
       "      <td>...</td>\n",
       "      <td>-0.532883</td>\n",
       "      <td>1.339119</td>\n",
       "      <td>-1.395033</td>\n",
       "      <td>-1.740281</td>\n",
       "      <td>-0.307879</td>\n",
       "      <td>-0.005396</td>\n",
       "      <td>-0.987150</td>\n",
       "      <td>-2.113400</td>\n",
       "      <td>-0.671805</td>\n",
       "      <td>-0.954673</td>\n",
       "    </tr>\n",
       "  </tbody>\n",
       "</table>\n",
       "<p>5 rows × 22 columns</p>\n",
       "</div>"
      ],
      "text/plain": [
       "        Age  Flight Distance  Inflight wifi service  \\\n",
       "0  1.299867        -0.143103               0.956377   \n",
       "1  0.043551        -0.438007               0.956377   \n",
       "2  1.696598        -0.808142              -0.549931   \n",
       "3  2.027207         1.053565               0.203223   \n",
       "4 -0.948277         0.169856              -0.549931   \n",
       "\n",
       "   Departure/Arrival time convenient  Ease of Online booking  Gate location  \\\n",
       "0                           1.271553                0.887405      -1.549472   \n",
       "1                           0.616850                0.887405      -0.766108   \n",
       "2                          -0.037854               -0.542403      -1.549472   \n",
       "3                           1.271553                0.172501       0.800620   \n",
       "4                          -0.692557               -0.542403       0.017256   \n",
       "\n",
       "   Food and drink  Online boarding  Seat comfort  Inflight entertainment  ...  \\\n",
       "0        1.354730         0.558180      1.185329               -1.017279  ...   \n",
       "1       -1.658287         0.558180      1.185329               -1.768222  ...   \n",
       "2       -1.658287        -0.923888     -1.846677               -1.768222  ...   \n",
       "3       -0.151778         1.299214      0.427327                1.235552  ...   \n",
       "4       -1.658287        -0.923888     -1.846677               -1.768222  ...   \n",
       "\n",
       "   Baggage handling  Checkin service  Inflight service  Cleanliness  \\\n",
       "0         -0.532883         1.339119         -1.395033     0.547515   \n",
       "1          0.313521        -0.241843          1.157994    -1.740281   \n",
       "2          1.159924         1.339119          1.157994    -1.740281   \n",
       "3          1.159924        -0.241843          1.157994     1.310114   \n",
       "4         -0.532883         1.339119         -1.395033    -1.740281   \n",
       "\n",
       "   Departure Delay in Minutes  Arrival Delay in Minutes  Gender_Male  \\\n",
       "0                   -0.074078                 -0.313709    -0.987150   \n",
       "1                    0.107766                  0.354302    -0.987150   \n",
       "2                   -0.385812                 -0.390787     1.013017   \n",
       "3                   -0.385812                 -0.390787    -0.987150   \n",
       "4                   -0.307879                 -0.005396    -0.987150   \n",
       "\n",
       "   Customer Type_Loyal Customer  Type of Travel_Personal Travel  \\\n",
       "0                      0.473171                        1.488528   \n",
       "1                     -2.113400                       -0.671805   \n",
       "2                      0.473171                        1.488528   \n",
       "3                      0.473171                        1.488528   \n",
       "4                     -2.113400                       -0.671805   \n",
       "\n",
       "   Class_Business  \n",
       "0       -0.954673  \n",
       "1        1.047479  \n",
       "2       -0.954673  \n",
       "3       -0.954673  \n",
       "4       -0.954673  \n",
       "\n",
       "[5 rows x 22 columns]"
      ]
     },
     "execution_count": 20,
     "metadata": {},
     "output_type": "execute_result"
    }
   ],
   "source": [
    "# Feature scaling: normalization/standardization\n",
    "scaler = StandardScaler().fit(X_train)\n",
    "scaled_train = scaler.transform(X_train)\n",
    "scaled_train_data = pd.DataFrame(scaled_train, columns=X_train.columns)\n",
    "scaled_train_data.head(5)"
   ]
  },
  {
   "cell_type": "code",
   "execution_count": 51,
   "metadata": {
    "colab": {
     "base_uri": "https://localhost:8080/"
    },
    "id": "VHZPNRaLcr5q",
    "outputId": "1fcbdfb0-3e88-4f91-8e4e-b9a4b01d4041"
   },
   "outputs": [
    {
     "name": "stdout",
     "output_type": "stream",
     "text": [
      "Means for All Columns\n",
      "Age                                  5.949469e-17\n",
      "Flight Distance                     -6.560658e-17\n",
      "Inflight wifi service               -8.003148e-17\n",
      "Departure/Arrival time convenient   -1.983156e-17\n",
      "Ease of Online booking              -1.005683e-16\n",
      "Gate location                       -1.901522e-16\n",
      "Food and drink                       1.196732e-17\n",
      "Online boarding                      5.983662e-18\n",
      "Seat comfort                        -1.039448e-16\n",
      "Inflight entertainment              -9.667888e-17\n",
      "On-board service                    -1.017222e-16\n",
      "Leg room service                    -9.813205e-17\n",
      "Baggage handling                    -8.693406e-17\n",
      "Checkin service                      1.059963e-17\n",
      "Inflight service                    -3.034571e-18\n",
      "Cleanliness                         -1.342691e-16\n",
      "Departure Delay in Minutes          -8.163424e-18\n",
      "Arrival Delay in Minutes             5.030550e-17\n",
      "Gender_Male                          2.389191e-17\n",
      "Customer Type_Loyal Customer        -1.128348e-17\n",
      "Type of Travel_Personal Travel      -7.248779e-17\n",
      "Class_Business                       1.548914e-16\n",
      "dtype: float64\n",
      "\n",
      "Standard Deviations for All Columns\n",
      "Age                                  1.000006\n",
      "Flight Distance                      1.000006\n",
      "Inflight wifi service                1.000006\n",
      "Departure/Arrival time convenient    1.000006\n",
      "Ease of Online booking               1.000006\n",
      "Gate location                        1.000006\n",
      "Food and drink                       1.000006\n",
      "Online boarding                      1.000006\n",
      "Seat comfort                         1.000006\n",
      "Inflight entertainment               1.000006\n",
      "On-board service                     1.000006\n",
      "Leg room service                     1.000006\n",
      "Baggage handling                     1.000006\n",
      "Checkin service                      1.000006\n",
      "Inflight service                     1.000006\n",
      "Cleanliness                          1.000006\n",
      "Departure Delay in Minutes           1.000006\n",
      "Arrival Delay in Minutes             1.000006\n",
      "Gender_Male                          1.000006\n",
      "Customer Type_Loyal Customer         1.000006\n",
      "Type of Travel_Personal Travel       1.000006\n",
      "Class_Business                       1.000006\n",
      "dtype: float64\n"
     ]
    }
   ],
   "source": [
    "print(\"Means for All Columns\")\n",
    "print(scaled_train_data.mean())\n",
    "\n",
    "print(\"\\nStandard Deviations for All Columns\")\n",
    "print(scaled_train_data.std())"
   ]
  },
  {
   "cell_type": "markdown",
   "metadata": {
    "id": "IIvZDMnP0YX6"
   },
   "source": [
    "*Our standard deviations and means are now very close to 1 and 0 respectively, so we can proceed with PCA.*"
   ]
  },
  {
   "cell_type": "code",
   "execution_count": 21,
   "metadata": {
    "colab": {
     "base_uri": "https://localhost:8080/"
    },
    "id": "qssRhSsg3qun",
    "outputId": "e586eb2c-bd73-4007-f8a5-a3d521698965"
   },
   "outputs": [
    {
     "name": "stdout",
     "output_type": "stream",
     "text": [
      "Number of components:  17\n",
      "Explained variance:  [0.18607828 0.10808437 0.10012151 0.08946963 0.0833212  0.06793848\n",
      " 0.04633443 0.04389146 0.04246406 0.03724706 0.03160559 0.02295042\n",
      " 0.02184587 0.02084908 0.0191624  0.01674263 0.01462843]\n"
     ]
    }
   ],
   "source": [
    "# We chose to reduce the dataset size as we have a lot of un-helpful features that don't have a strong correlation with the label\n",
    "# satisfaction_satisfied.\n",
    "pca = PCA(n_components=0.95, svd_solver='full')\n",
    "fitted_pca = pca.fit(scaled_train)\n",
    "transform = fitted_pca.transform(scaled_train)\n",
    "pca_data = pd.DataFrame(transform)\n",
    "print(\"Number of components: \", pca.n_components_)\n",
    "print(\"Explained variance: \", pca.explained_variance_ratio_)"
   ]
  },
  {
   "cell_type": "markdown",
   "metadata": {
    "id": "kk9iyK2I0YX6"
   },
   "source": [
    "*From this we can see that our first 4 principal components explain 50% of the variance in our data and all of our principal components explain 95% of the variance in our data.*"
   ]
  },
  {
   "cell_type": "code",
   "execution_count": 22,
   "metadata": {
    "colab": {
     "base_uri": "https://localhost:8080/",
     "height": 206
    },
    "id": "wH-lPLCx3qun",
    "outputId": "83e9f987-eb27-42ba-8bae-93562e4d7a43"
   },
   "outputs": [
    {
     "data": {
      "text/html": [
       "<div>\n",
       "<style scoped>\n",
       "    .dataframe tbody tr th:only-of-type {\n",
       "        vertical-align: middle;\n",
       "    }\n",
       "\n",
       "    .dataframe tbody tr th {\n",
       "        vertical-align: top;\n",
       "    }\n",
       "\n",
       "    .dataframe thead th {\n",
       "        text-align: right;\n",
       "    }\n",
       "</style>\n",
       "<table border=\"1\" class=\"dataframe\">\n",
       "  <thead>\n",
       "    <tr style=\"text-align: right;\">\n",
       "      <th></th>\n",
       "      <th>0</th>\n",
       "      <th>1</th>\n",
       "      <th>2</th>\n",
       "      <th>3</th>\n",
       "      <th>4</th>\n",
       "      <th>5</th>\n",
       "      <th>6</th>\n",
       "      <th>7</th>\n",
       "      <th>8</th>\n",
       "      <th>9</th>\n",
       "      <th>10</th>\n",
       "      <th>11</th>\n",
       "      <th>12</th>\n",
       "      <th>13</th>\n",
       "      <th>14</th>\n",
       "      <th>15</th>\n",
       "      <th>16</th>\n",
       "    </tr>\n",
       "  </thead>\n",
       "  <tbody>\n",
       "    <tr>\n",
       "      <th>0</th>\n",
       "      <td>-1.597025</td>\n",
       "      <td>0.445625</td>\n",
       "      <td>-0.118678</td>\n",
       "      <td>-1.206940</td>\n",
       "      <td>2.937785</td>\n",
       "      <td>0.251137</td>\n",
       "      <td>-0.179809</td>\n",
       "      <td>2.218480</td>\n",
       "      <td>0.178247</td>\n",
       "      <td>-0.185685</td>\n",
       "      <td>-0.313154</td>\n",
       "      <td>-0.287757</td>\n",
       "      <td>0.422496</td>\n",
       "      <td>0.882328</td>\n",
       "      <td>0.287146</td>\n",
       "      <td>0.378102</td>\n",
       "      <td>-0.455396</td>\n",
       "    </tr>\n",
       "    <tr>\n",
       "      <th>1</th>\n",
       "      <td>1.055296</td>\n",
       "      <td>-2.498477</td>\n",
       "      <td>1.327105</td>\n",
       "      <td>-0.301463</td>\n",
       "      <td>-0.645381</td>\n",
       "      <td>0.915135</td>\n",
       "      <td>-1.654860</td>\n",
       "      <td>0.613215</td>\n",
       "      <td>-0.754642</td>\n",
       "      <td>0.054397</td>\n",
       "      <td>1.054215</td>\n",
       "      <td>-1.692718</td>\n",
       "      <td>-0.856787</td>\n",
       "      <td>-0.623394</td>\n",
       "      <td>-0.546561</td>\n",
       "      <td>0.197453</td>\n",
       "      <td>0.320731</td>\n",
       "    </tr>\n",
       "    <tr>\n",
       "      <th>2</th>\n",
       "      <td>1.162072</td>\n",
       "      <td>1.034433</td>\n",
       "      <td>0.123359</td>\n",
       "      <td>0.146257</td>\n",
       "      <td>1.955031</td>\n",
       "      <td>-1.326219</td>\n",
       "      <td>1.050652</td>\n",
       "      <td>0.414280</td>\n",
       "      <td>0.587874</td>\n",
       "      <td>-1.355886</td>\n",
       "      <td>1.653140</td>\n",
       "      <td>-0.145615</td>\n",
       "      <td>-0.233134</td>\n",
       "      <td>0.458483</td>\n",
       "      <td>0.532250</td>\n",
       "      <td>0.050437</td>\n",
       "      <td>0.267155</td>\n",
       "    </tr>\n",
       "    <tr>\n",
       "      <th>3</th>\n",
       "      <td>0.692196</td>\n",
       "      <td>0.350494</td>\n",
       "      <td>0.807796</td>\n",
       "      <td>-0.564026</td>\n",
       "      <td>1.993417</td>\n",
       "      <td>0.114370</td>\n",
       "      <td>-0.242392</td>\n",
       "      <td>1.937783</td>\n",
       "      <td>1.093797</td>\n",
       "      <td>0.293771</td>\n",
       "      <td>0.920950</td>\n",
       "      <td>-0.041967</td>\n",
       "      <td>-0.651639</td>\n",
       "      <td>0.453742</td>\n",
       "      <td>0.248477</td>\n",
       "      <td>0.020762</td>\n",
       "      <td>-0.274318</td>\n",
       "    </tr>\n",
       "    <tr>\n",
       "      <th>4</th>\n",
       "      <td>2.179651</td>\n",
       "      <td>1.371234</td>\n",
       "      <td>0.861928</td>\n",
       "      <td>-0.184686</td>\n",
       "      <td>-1.895388</td>\n",
       "      <td>1.339432</td>\n",
       "      <td>-0.752820</td>\n",
       "      <td>-0.789753</td>\n",
       "      <td>-0.288069</td>\n",
       "      <td>-0.167562</td>\n",
       "      <td>0.450226</td>\n",
       "      <td>-0.073526</td>\n",
       "      <td>0.046337</td>\n",
       "      <td>-1.204935</td>\n",
       "      <td>1.275570</td>\n",
       "      <td>-0.503480</td>\n",
       "      <td>0.169093</td>\n",
       "    </tr>\n",
       "  </tbody>\n",
       "</table>\n",
       "</div>"
      ],
      "text/plain": [
       "         0         1         2         3         4         5         6   \\\n",
       "0 -1.597025  0.445625 -0.118678 -1.206940  2.937785  0.251137 -0.179809   \n",
       "1  1.055296 -2.498477  1.327105 -0.301463 -0.645381  0.915135 -1.654860   \n",
       "2  1.162072  1.034433  0.123359  0.146257  1.955031 -1.326219  1.050652   \n",
       "3  0.692196  0.350494  0.807796 -0.564026  1.993417  0.114370 -0.242392   \n",
       "4  2.179651  1.371234  0.861928 -0.184686 -1.895388  1.339432 -0.752820   \n",
       "\n",
       "         7         8         9         10        11        12        13  \\\n",
       "0  2.218480  0.178247 -0.185685 -0.313154 -0.287757  0.422496  0.882328   \n",
       "1  0.613215 -0.754642  0.054397  1.054215 -1.692718 -0.856787 -0.623394   \n",
       "2  0.414280  0.587874 -1.355886  1.653140 -0.145615 -0.233134  0.458483   \n",
       "3  1.937783  1.093797  0.293771  0.920950 -0.041967 -0.651639  0.453742   \n",
       "4 -0.789753 -0.288069 -0.167562  0.450226 -0.073526  0.046337 -1.204935   \n",
       "\n",
       "         14        15        16  \n",
       "0  0.287146  0.378102 -0.455396  \n",
       "1 -0.546561  0.197453  0.320731  \n",
       "2  0.532250  0.050437  0.267155  \n",
       "3  0.248477  0.020762 -0.274318  \n",
       "4  1.275570 -0.503480  0.169093  "
      ]
     },
     "execution_count": 22,
     "metadata": {},
     "output_type": "execute_result"
    }
   ],
   "source": [
    "# Scaling test data\n",
    "scaled_test = scaler.transform(X_test)\n",
    "scaled_test_data = pd.DataFrame(scaled_test, columns=X_test.columns)\n",
    "\n",
    "# Transforming test data\n",
    "transformed_test = fitted_pca.transform(scaled_test_data)\n",
    "pca_data_test = pd.DataFrame(transformed_test)\n",
    "pca_data_test.head(5)"
   ]
  },
  {
   "cell_type": "markdown",
   "metadata": {
    "id": "cUXpTkMQ0YX6"
   },
   "source": [
    "*Our PCA has reduced our number of features to 17, which is a significant reduction from the original 22 features.*\n",
    "\n",
    "*Thus, we conclude this section of our feature engineering.*"
   ]
  },
  {
   "cell_type": "markdown",
   "metadata": {
    "id": "XEnEMRBB3qun"
   },
   "source": [
    "<h2>4. Clustering</h2>"
   ]
  },
  {
   "cell_type": "markdown",
   "metadata": {
    "id": "YZsk5rJ63qun"
   },
   "source": [
    "<h3>4.1 DBScan</h3>"
   ]
  },
  {
   "cell_type": "code",
   "execution_count": 34,
   "metadata": {
    "colab": {
     "base_uri": "https://localhost:8080/",
     "height": 485
    },
    "id": "uSDsERas0YX6",
    "outputId": "b5fd8923-2156-4788-99b8-a04bb2f73c40"
   },
   "outputs": [
    {
     "name": "stderr",
     "output_type": "stream",
     "text": [
      "/usr/local/lib/python3.9/dist-packages/sklearn/manifold/_mds.py:299: FutureWarning: The default value of `normalized_stress` will change to `'auto'` in version 1.4. To suppress this warning, manually set the value of `normalized_stress`.\n",
      "  warnings.warn(\n"
     ]
    },
    {
     "data": {
      "image/png": "[encoded data removed]",
      "text/plain": [
       "<Figure size 640x480 with 1 Axes>"
      ]
     },
     "metadata": {},
     "output_type": "display_data"
    }
   ],
   "source": [
    "def scatter(data, labels, numPoints = 10000):\n",
    "\n",
    "    numEntries = data.shape[0]\n",
    "    start = random.randint(0, numEntries - numPoints)\n",
    "    end = start + numPoints\n",
    "    data = data.iloc[start:end, :]\n",
    "    labels = labels.iloc[start:end]\n",
    "    \n",
    "    mds = MDS(n_components=2)\n",
    "    mds_data = mds.fit_transform(data)\n",
    "    plt.scatter(mds_data[:, 0], mds_data[:, 1], c=labels, s=50)\n",
    "    plt.show()\n",
    "\n",
    "scatter(pca_data, y_train)"
   ]
  },
  {
   "cell_type": "markdown",
   "metadata": {
    "id": "dlYGSlPM8EBQ"
   },
   "source": [
    "*From the look of our image, the points seem to be in one big cluster, with one group on the right, and one on the left.*"
   ]
  },
  {
   "cell_type": "code",
   "execution_count": 35,
   "metadata": {
    "colab": {
     "base_uri": "https://localhost:8080/",
     "height": 430
    },
    "id": "KrbxO57i3qun",
    "outputId": "cc1010d8-6697-43ac-b82f-852e6f581d63"
   },
   "outputs": [
    {
     "data": {
      "image/png": "[encoded data removed]",
      "text/plain": [
       "<Figure size 640x480 with 1 Axes>"
      ]
     },
     "metadata": {},
     "output_type": "display_data"
    }
   ],
   "source": [
    "# Find DBScan nearest neighbors\n",
    "\n",
    "neigh = NearestNeighbors(n_neighbors=6)\n",
    "neigh.fit(pca_data)\n",
    "distances,indices = neigh.kneighbors(pca_data)\n",
    "\n",
    "sorted_distances = sorted(distances, key=lambda x:x[5])\n",
    "plt.plot(sorted_distances)\n",
    "plt.show()"
   ]
  },
  {
   "cell_type": "markdown",
   "metadata": {
    "id": "lnrtjLeX8OOS"
   },
   "source": [
    "*This tells us that there are many points which are relatively close to each other, but few points with a very large didstance at the right tail*"
   ]
  },
  {
   "cell_type": "code",
   "execution_count": 36,
   "metadata": {
    "colab": {
     "base_uri": "https://localhost:8080/",
     "height": 485
    },
    "id": "TNmMg5oW3qun",
    "outputId": "7caa2756-0494-4f0e-c802-91c983a0a2e9"
   },
   "outputs": [
    {
     "name": "stderr",
     "output_type": "stream",
     "text": [
      "/usr/local/lib/python3.9/dist-packages/sklearn/manifold/_mds.py:299: FutureWarning: The default value of `normalized_stress` will change to `'auto'` in version 1.4. To suppress this warning, manually set the value of `normalized_stress`.\n",
      "  warnings.warn(\n"
     ]
    },
    {
     "data": {
      "image/png": "[encoded data removed]",
      "text/plain": [
       "<Figure size 640x480 with 1 Axes>"
      ]
     },
     "metadata": {},
     "output_type": "display_data"
    }
   ],
   "source": [
    "# DBScan\n",
    "db_scan = DBSCAN(min_samples=4, eps=3)\n",
    "dbscan_labels = db_scan.fit_predict(pca_data)\n",
    "\n",
    "labels_series = pd.Series(dbscan_labels)\n",
    "scatter(pca_data, labels_series)"
   ]
  },
  {
   "cell_type": "markdown",
   "metadata": {
    "id": "jGqDFBYK8iOX"
   },
   "source": [
    "*Because all of our points seem to be in one big cluster, and the clustering does not match with the orignal scatter plot of the data, we can conclude that an unsupervised learning or cluster based apprach will probably not yield good results.*"
   ]
  },
  {
   "cell_type": "markdown",
   "metadata": {
    "id": "Zlht4M8K3quo"
   },
   "source": [
    "<h3>4.2 Hierarchial Clustering</h3>"
   ]
  },
  {
   "cell_type": "code",
   "execution_count": 37,
   "metadata": {
    "colab": {
     "base_uri": "https://localhost:8080/",
     "height": 533
    },
    "id": "yf8TAhWL3quo",
    "outputId": "4c6c5398-bd55-4c53-91fd-b44aadfdaae5",
    "scrolled": false
   },
   "outputs": [
    {
     "name": "stdout",
     "output_type": "stream",
     "text": [
      "(832, 17)\n",
      "Single =  0.7329696799033117\n",
      "Complete =  0.658205185669186\n",
      "Average =  0.7759370756285808\n",
      "Centroid =  0.7465065951919122\n",
      "Ward =  0.3344727039587612\n"
     ]
    },
    {
     "data": {
      "image/png": "[encoded data removed]",
      "text/plain": [
       "<Figure size 640x480 with 1 Axes>"
      ]
     },
     "metadata": {},
     "output_type": "display_data"
    }
   ],
   "source": [
    "def downsample_data(data, labels):\n",
    "    downData = None\n",
    "    downLabels = None\n",
    "\n",
    "    kfold = StratifiedKFold(n_splits = 100, shuffle = False)\n",
    "    for throwAway_index, subsample_index in kfold.split(data, labels):\n",
    "        downData = data.iloc[subsample_index]\n",
    "        downLabels = labels.iloc[subsample_index]\n",
    "        break\n",
    "    \n",
    "    print(downData.shape)\n",
    "    return downData\n",
    "\n",
    "\n",
    "# Downsample data for proximity matrix\n",
    "sampled_dataset = downsample_data(pca_data, y_train)\n",
    "# Pass the down-sampled dataset into pdist to get your proximity matrix for calculating CPCC\n",
    "proximity_matrix = pdist(sampled_dataset)\n",
    "\n",
    "# trying different hierarchial clustering methods\n",
    "single = linkage(sampled_dataset, 'single')\n",
    "complete = linkage(sampled_dataset, 'complete')\n",
    "average = linkage(sampled_dataset, 'average')\n",
    "centroid = linkage(sampled_dataset, 'centroid')\n",
    "ward = linkage(sampled_dataset, 'ward')\n",
    "\n",
    "print(\"Single = \", cophenet(single, pdist(sampled_dataset))[0])\n",
    "print(\"Complete = \", cophenet(complete, pdist(sampled_dataset))[0])\n",
    "print(\"Average = \", cophenet(average, pdist(sampled_dataset))[0])\n",
    "print(\"Centroid = \", cophenet(centroid, pdist(sampled_dataset))[0])\n",
    "print(\"Ward = \", cophenet(ward, pdist(sampled_dataset))[0])\n",
    "\n",
    "### Results ###\n",
    "# Single =  0.7329696799033115\n",
    "# Complete =  0.6582051856691857\n",
    "# Average =  0.7759370756285814\n",
    "# Centroid =  0.7465065951919121\n",
    "# Ward =  0.33447270395876133\n",
    "plt.figure()\n",
    "dn = dendrogram(average)\n",
    "plt.show()"
   ]
  },
  {
   "cell_type": "markdown",
   "metadata": {
    "id": "kw6Bq_RY3quo"
   },
   "source": [
    "<h2>5. Modeling</h2>"
   ]
  },
  {
   "cell_type": "markdown",
   "metadata": {
    "id": "GWryXbEk3quo"
   },
   "source": [
    "<h3>5.1 Linear Regression Modeling</h3>"
   ]
  },
  {
   "cell_type": "code",
   "execution_count": 23,
   "metadata": {
    "colab": {
     "base_uri": "https://localhost:8080/"
    },
    "id": "hljQ9TwR3quo",
    "outputId": "4bb9e263-a8ec-4133-c1ef-281a526eeaeb"
   },
   "outputs": [
    {
     "name": "stdout",
     "output_type": "stream",
     "text": [
      "slope =  [-0.14990517  0.00896066 -0.00781036  0.02433572 -0.11534456 -0.02025386\n",
      "  0.01978645 -0.0404052   0.00153417  0.02730913 -0.00496812 -0.09984916\n",
      "  0.00813354  0.03483591 -0.03805748 -0.00991756  0.07992919] \n",
      "\n",
      "intercept = 0.4325758213731458\n"
     ]
    }
   ],
   "source": [
    "reg = LinearRegression()\n",
    "reg.fit(pca_data, y_train)\n",
    "print(\"slope = \", reg.coef_, \"\\n\")\n",
    "print(\"intercept =\", reg.intercept_)"
   ]
  },
  {
   "cell_type": "code",
   "execution_count": 24,
   "metadata": {
    "colab": {
     "base_uri": "https://localhost:8080/"
    },
    "id": "vIm5hPMw3quo",
    "outputId": "67a71eb9-6aa5-4f94-c951-e0e1394828ef"
   },
   "outputs": [
    {
     "name": "stdout",
     "output_type": "stream",
     "text": [
      "MAE =  0.2599151580632687\n",
      "MSE =  0.11558778101326996\n",
      "RMSE =  0.3399820304270065\n",
      "R2 =  0.5300353887020863\n"
     ]
    }
   ],
   "source": [
    "# Regression Evaluation\n",
    "y_test_preds = reg.predict(pca_data_test)\n",
    "\n",
    "print(\"MAE = \", metrics.mean_absolute_error(y_true=y_test, y_pred=y_test_preds))\n",
    "print(\"MSE = \", metrics.mean_squared_error(y_true=y_test, y_pred=y_test_preds))\n",
    "print(\"RMSE = \", metrics.mean_squared_error(y_true=y_test, y_pred=y_test_preds, squared=False))\n",
    "print(\"R2 = \", metrics.r2_score(y_true=y_test, y_pred=y_test_preds))"
   ]
  },
  {
   "cell_type": "code",
   "execution_count": 25,
   "metadata": {
    "colab": {
     "base_uri": "https://localhost:8080/"
    },
    "id": "GJE2cn4O3quo",
    "outputId": "2feab0a7-e9db-4f94-f19b-bb58c0279b7e"
   },
   "outputs": [
    {
     "name": "stdout",
     "output_type": "stream",
     "text": [
      "Average accuracy:  0.5520590675962456\n"
     ]
    }
   ],
   "source": [
    "all_features = pd.concat([X_train, X_test])\n",
    "all_labels = pd.concat([y_train, y_test])\n",
    "\n",
    "r2_scores = cross_val_score(reg, all_features, all_labels, cv=5)\n",
    "r2_scores_avg = sum(r2_scores) / len(r2_scores)\n",
    "print(\"Average accuracy: \", r2_scores_avg)"
   ]
  },
  {
   "cell_type": "markdown",
   "metadata": {},
   "source": [
    "Given the low accuracy for linear regression in comparison to our other models, we can conclude that linear regression is most likely not an appropriate model for our data. This makes sense, since regression is generally used for predicting continuous variables and not for classification (which is more appropriate given that our class label is binary)."
   ]
  },
  {
   "cell_type": "markdown",
   "metadata": {
    "id": "lcxkqqDucr5r"
   },
   "source": [
    "<h3>5.2 Logistic Regression Modeling</h3>"
   ]
  },
  {
   "cell_type": "code",
   "execution_count": 26,
   "metadata": {
    "id": "oselbc0Scr5s"
   },
   "outputs": [],
   "source": [
    "log_clf = LogisticRegression().fit(pca_data, y_train)\n",
    "log_preds = log_clf.predict(pca_data_test)"
   ]
  },
  {
   "cell_type": "code",
   "execution_count": 27,
   "metadata": {
    "colab": {
     "base_uri": "https://localhost:8080/"
    },
    "id": "sTGQEEl1cr5s",
    "outputId": "b8981f83-45cb-4706-a09f-30121b076ba7"
   },
   "outputs": [
    {
     "name": "stdout",
     "output_type": "stream",
     "text": [
      "Confusion matrix: \n",
      " [[10477  1236]\n",
      " [ 1532  7536]] \n",
      "\n",
      "Accuracy:  0.8668014051296857\n",
      "Specificity (TNR):  0.8944762230000853\n",
      "Recall (TPR):  0.8310542567269519 \n",
      "\n",
      "Precision:  0.8590971272229823\n",
      "F-measure:  0.8448430493273542 \n",
      "\n",
      "FPR (Type I Error):  0.059477407247004475\n",
      "FNR (Type II Error):  0.07372118762330976\n"
     ]
    }
   ],
   "source": [
    "# Confusion matrix\n",
    "log_matrix = metrics.confusion_matrix(y_test, log_preds)\n",
    "print(\"Confusion matrix: \\n\", log_matrix, \"\\n\")\n",
    "\n",
    "TP = log_matrix[1, 1]\n",
    "TN = log_matrix[0, 0]\n",
    "FP = log_matrix[0, 1]\n",
    "FN = log_matrix[1, 0]\n",
    "\n",
    "precision = TP / (TP + FP)\n",
    "recall = TP / (TP + FN)\n",
    "\n",
    "print(\"Accuracy: \", (TP + TN) / len(log_preds))\n",
    "print(\"Specificity (TNR): \", TN / (TN + FP))\n",
    "print(\"Recall (TPR): \", recall, \"\\n\")\n",
    "print(\"Precision: \", precision)\n",
    "\n",
    "f_measure = 2 * precision * recall / (precision + recall)\n",
    "print(\"F-measure: \", f_measure, \"\\n\")\n",
    "\n",
    "print(\"FPR (Type I Error): \", FP / len(log_preds))\n",
    "print(\"FNR (Type II Error): \", FN / len(log_preds))"
   ]
  },
  {
   "cell_type": "code",
   "execution_count": 28,
   "metadata": {
    "colab": {
     "base_uri": "https://localhost:8080/"
    },
    "id": "gztoQsP1cr5s",
    "outputId": "f64a1765-3a0f-4c0b-9b10-5bee3f945ad6"
   },
   "outputs": [
    {
     "name": "stdout",
     "output_type": "stream",
     "text": [
      "Average accuracy:  0.8749903964340714\n"
     ]
    }
   ],
   "source": [
    "ss = StandardScaler()\n",
    "pca = PCA()\n",
    "l_clf = LogisticRegression()\n",
    "log_pipe = Pipeline(steps = [('StandardScaler', ss), ('PCA', pca), ('LogReg', l_clf)])\n",
    "log_cv = cross_val_score(log_pipe, all_features, all_labels, cv = 5)\n",
    "\n",
    "print(\"Average accuracy: \", log_cv.mean())"
   ]
  },
  {
   "cell_type": "code",
   "execution_count": 45,
   "metadata": {
    "colab": {
     "base_uri": "https://localhost:8080/"
    },
    "id": "VzwEoKiy0YX8",
    "outputId": "955de4a2-a9d7-4a83-dd42-b402a9e2c2ca"
   },
   "outputs": [
    {
     "name": "stdout",
     "output_type": "stream",
     "text": [
      "AUC score:  0.922617075624786\n"
     ]
    }
   ],
   "source": [
    "# ROC score\n",
    "log_prob = log_clf.predict_proba(pca_data_test)[:,1]\n",
    "log_auc = metrics.roc_auc_score(y_test, log_prob)\n",
    "print(\"AUC score: \", log_auc)\n",
    "\n",
    "log_roc = metrics.roc_curve(y_true=y_test, y_score=log_prob)\n",
    "log_fpr, log_tpr = log_roc[0], log_roc[1]"
   ]
  },
  {
   "cell_type": "code",
   "execution_count": 46,
   "metadata": {
    "colab": {
     "base_uri": "https://localhost:8080/",
     "height": 472
    },
    "id": "o3VjIhCa0YX8",
    "outputId": "9acff920-2de1-48f9-84f1-fd0d5702c261"
   },
   "outputs": [
    {
     "data": {
      "image/png": "[encoded data removed]",
      "text/plain": [
       "<Figure size 640x480 with 1 Axes>"
      ]
     },
     "metadata": {},
     "output_type": "display_data"
    }
   ],
   "source": [
    "# ROC curve\n",
    "plt.plot([0,1],[0,1],'k--')\n",
    "plt.plot(log_fpr, log_tpr, label='LogReg')\n",
    "plt.xlabel('fpr')\n",
    "plt.ylabel('tpr')\n",
    "plt.title('ROC Curve for Logistic Regression')\n",
    "plt.show()"
   ]
  },
  {
   "cell_type": "markdown",
   "metadata": {},
   "source": [
    "The AUC score of 0.92 is very high and the ROC curve approaches the ideal ROC curve. The accuracy, precision, recall, etc. values are all very high (over 85%), which shows that this logistic regression model does a very good job of predicting the customer's overall satisfaction score in spite of the class imbalance of the class label (more neutral or dissatisfied customers than satisfied customers). The logistic regression model is a much more appropriate model for our data (since it is meant for classification) than the linear regression model."
   ]
  },
  {
   "cell_type": "markdown",
   "metadata": {},
   "source": [
    "<h3>5.3 Mitigating Class Imbalance in Logistic Regression Model</h3>"
   ]
  },
  {
   "cell_type": "code",
   "execution_count": 29,
   "metadata": {},
   "outputs": [
    {
     "name": "stdout",
     "output_type": "stream",
     "text": [
      "Classification report: \n",
      "               precision    recall  f1-score   support\n",
      "\n",
      "           0       0.88      0.90      0.89     58879\n",
      "           1       0.87      0.84      0.85     45025\n",
      "\n",
      "    accuracy                           0.87    103904\n",
      "   macro avg       0.87      0.87      0.87    103904\n",
      "weighted avg       0.87      0.87      0.87    103904\n",
      "\n",
      "Accuracy:  0.8749903757314444\n"
     ]
    }
   ],
   "source": [
    "# Original cross validation scores\n",
    "logcv_preds = cross_val_predict(log_pipe, all_features, all_labels, cv = 5)\n",
    "print(\"Classification report: \\n\", metrics.classification_report(y_pred=logcv_preds, y_true=all_labels))\n",
    "print(\"Accuracy: \", metrics.accuracy_score(y_pred=logcv_preds, y_true=all_labels))"
   ]
  },
  {
   "cell_type": "code",
   "execution_count": 33,
   "metadata": {},
   "outputs": [
    {
     "name": "stdout",
     "output_type": "stream",
     "text": [
      "Classification report: \n",
      "               precision    recall  f1-score   support\n",
      "\n",
      "           0       0.89      0.88      0.88     58879\n",
      "           1       0.84      0.86      0.85     45025\n",
      "\n",
      "    accuracy                           0.87    103904\n",
      "   macro avg       0.87      0.87      0.87    103904\n",
      "weighted avg       0.87      0.87      0.87    103904\n",
      "\n",
      "Accuracy:  0.8691099476439791\n"
     ]
    }
   ],
   "source": [
    "# Mitigating class imbalance by under-sampling the majority class\n",
    "under_sampler = RandomUnderSampler(sampling_strategy = 'majority')\n",
    "under_pipe = imb_pipe(steps = [('Sampler', under_sampler), ('StandardScaler', ss), ('PCA', pca), ('LogReg', l_clf)])\n",
    "undercv_preds = cross_val_predict(under_pipe, all_features, all_labels, cv = 5)\n",
    "\n",
    "print(\"Classification report: \\n\", metrics.classification_report(y_pred=undercv_preds, y_true=all_labels))\n",
    "print(\"Accuracy: \", metrics.accuracy_score(y_pred=undercv_preds, y_true=all_labels))"
   ]
  },
  {
   "cell_type": "code",
   "execution_count": 34,
   "metadata": {},
   "outputs": [
    {
     "name": "stdout",
     "output_type": "stream",
     "text": [
      "Classification report: \n",
      "               precision    recall  f1-score   support\n",
      "\n",
      "           0       0.89      0.88      0.88     58879\n",
      "           1       0.84      0.86      0.85     45025\n",
      "\n",
      "    accuracy                           0.87    103904\n",
      "   macro avg       0.87      0.87      0.87    103904\n",
      "weighted avg       0.87      0.87      0.87    103904\n",
      "\n",
      "Accuracy:  0.8692543116723129\n"
     ]
    }
   ],
   "source": [
    "# Mitigating class imbalance by over-sampling the minority class\n",
    "over_sampler = RandomOverSampler(sampling_strategy = 'minority')\n",
    "over_pipe = imb_pipe(steps = [('Sampler', over_sampler), ('StandardScaler', ss), ('PCA', pca), ('LogReg', l_clf)])\n",
    "overcv_preds = cross_val_predict(over_pipe, all_features, all_labels, cv = 5)\n",
    "\n",
    "print(\"Classification report: \\n\", metrics.classification_report(y_pred=overcv_preds, y_true=all_labels))\n",
    "print(\"Accuracy: \", metrics.accuracy_score(y_pred=overcv_preds, y_true=all_labels))"
   ]
  },
  {
   "cell_type": "code",
   "execution_count": 35,
   "metadata": {},
   "outputs": [
    {
     "name": "stdout",
     "output_type": "stream",
     "text": [
      "Classification report: \n",
      "               precision    recall  f1-score   support\n",
      "\n",
      "           0       0.89      0.87      0.88     58879\n",
      "           1       0.83      0.86      0.85     45025\n",
      "\n",
      "    accuracy                           0.87    103904\n",
      "   macro avg       0.86      0.87      0.86    103904\n",
      "weighted avg       0.87      0.87      0.87    103904\n",
      "\n",
      "Accuracy:  0.8661264243917463\n"
     ]
    }
   ],
   "source": [
    "# Mitigating class imbalance using SMOTE\n",
    "log_smote = SMOTE(sampling_strategy = 'minority')\n",
    "smote_pipe = imb_pipe(steps = [('Sampler', log_smote), ('StandardScaler', ss), ('PCA', pca), ('LogReg', l_clf)])\n",
    "smote_preds = cross_val_predict(smote_pipe, all_features, all_labels, cv = 5)\n",
    "\n",
    "print(\"Classification report: \\n\", metrics.classification_report(y_pred=smote_preds, y_true=all_labels))\n",
    "print(\"Accuracy: \", metrics.accuracy_score(y_pred=smote_preds, y_true=all_labels))"
   ]
  },
  {
   "cell_type": "markdown",
   "metadata": {},
   "source": [
    "The over/under-sampling techniques cause a slight decrease in accuracy and don't have a major increase for other evaluation metrics (precision, recall, f1-score). There is consistently a slight increase in recall from over/under-sampling the data for the records where customers were satisfied overall, but at the cost of other metric values decreasing. Since the class imbalance in the class label of our data is not very extreme, it appears that mitigating this imbalance is not very important and doesn't clearly improve our logistic regression model.\n",
    "\n",
    "Considering we tried multiple resampling approaches to account for class imbalances and none improved the modeling performance by much, resampling will probably also not have much of an impact for our other models."
   ]
  },
  {
   "cell_type": "markdown",
   "metadata": {
    "id": "2SK2Q1KB3quo"
   },
   "source": [
    "<h3>5.4 Decision Tree</h3>"
   ]
  },
  {
   "cell_type": "code",
   "execution_count": 57,
   "metadata": {
    "colab": {
     "base_uri": "https://localhost:8080/"
    },
    "id": "HFkgif8b3quo",
    "outputId": "242e36ba-9fec-4e57-fc86-c471099d094d"
   },
   "outputs": [
    {
     "name": "stdout",
     "output_type": "stream",
     "text": [
      "Average accuracy:  0.9015928011164044\n"
     ]
    }
   ],
   "source": [
    "clf = DecisionTreeClassifier(criterion='entropy', max_depth=500, min_samples_leaf=20)\n",
    "clf.fit(pca_data, y_train)\n",
    "y_pred = clf.predict(pca_data_test)\n",
    "print(\"Average accuracy: \", metrics.accuracy_score(y_test, y_pred))"
   ]
  },
  {
   "cell_type": "code",
   "execution_count": 58,
   "metadata": {
    "colab": {
     "base_uri": "https://localhost:8080/"
    },
    "id": "8Mo0CQn03qup",
    "outputId": "574ac1af-cc60-4818-b3fb-be6c9c25890c"
   },
   "outputs": [
    {
     "name": "stdout",
     "output_type": "stream",
     "text": [
      "Average accuracy:  0.9467490069930771\n"
     ]
    }
   ],
   "source": [
    "# Check accuracy using cross validation score\n",
    "clf = DecisionTreeClassifier()\n",
    "accuracy = cross_val_score(clf, all_features, all_labels, cv=10)\n",
    "print(\"Average accuracy: \", np.mean(accuracy))"
   ]
  },
  {
   "cell_type": "markdown",
   "metadata": {},
   "source": [
    "We see a noticeable increase in accuracy from 90% to 95% after running cross validation, which shows how important this process is especially for decision trees. There was less of an increase when running cross validation on the logistic regression model. This may mean that there is a lot more variance in how each decision tree is built (compared to the logistic regression model) depending on what the training set is."
   ]
  },
  {
   "cell_type": "code",
   "execution_count": 59,
   "metadata": {
    "colab": {
     "base_uri": "https://localhost:8080/"
    },
    "id": "6XI-YMOR3qup",
    "outputId": "6ac0baa8-cd5f-404a-82c4-383d9884f7b7"
   },
   "outputs": [
    {
     "name": "stdout",
     "output_type": "stream",
     "text": [
      "{'max_depth': 500, 'max_features': 20, 'min_samples_leaf': 15}\n",
      "Accuracy = 0.9525331169144243\n",
      "f1 score = 0.9447641246701133\n"
     ]
    }
   ],
   "source": [
    "# Tuning hyperparameters using a grid search\n",
    "params = {\"max_depth\": [50,100,500] , \"min_samples_leaf\": [10,15,20,25], \"max_features\": [5,10,15,20]}\n",
    "grid_search = GridSearchCV(clf, params, cv=5, scoring='accuracy')\n",
    "gs_f1 = GridSearchCV(clf, params, cv=5, scoring='f1')\n",
    "grid_search.fit(all_features, all_labels)\n",
    "gs_f1.fit(all_features, all_labels)\n",
    "\n",
    "print(grid_search.best_params_)\n",
    "print(\"Accuracy =\", grid_search.best_score_)\n",
    "print(\"f1 score =\",gs_f1.best_score_)"
   ]
  },
  {
   "cell_type": "code",
   "execution_count": 50,
   "metadata": {
    "colab": {
     "base_uri": "https://localhost:8080/"
    },
    "id": "RblYHJ8_0YX8",
    "outputId": "bc81e202-48f9-4bc7-f075-ca2f0b7350ad"
   },
   "outputs": [
    {
     "data": {
      "text/plain": [
       "0.9515226260528078"
      ]
     },
     "execution_count": 50,
     "metadata": {},
     "output_type": "execute_result"
    }
   ],
   "source": [
    "# Nested cross validation\n",
    "cross_val_score(grid_search, all_features, all_labels, cv=10).mean()"
   ]
  },
  {
   "cell_type": "markdown",
   "metadata": {},
   "source": [
    "Our accuracies from the decision tree model are exceptionally high, at ~95%. We hypothesize this is partially because decision trees are able to equally handle categorical and numerical data. We also know that decision trees are resistant to the presence of outliers - in the earlier data exploration section, our boxplots showed that there were quite a few outliers for not satisfied customers who had high flight distances. The presence of these outliers, as well as other possible outliers in other features, may explain why our decision tree model performed so well."
   ]
  },
  {
   "cell_type": "markdown",
   "metadata": {
    "id": "LZRTVf510YX9"
   },
   "source": [
    "<h3>5.5 KNN</h3>"
   ]
  },
  {
   "cell_type": "code",
   "execution_count": null,
   "metadata": {
    "colab": {
     "base_uri": "https://localhost:8080/",
     "height": 380
    },
    "id": "BxD83KR73qup",
    "outputId": "85ad1a3e-6d40-4646-e6d3-f9396852aaad"
   },
   "outputs": [],
   "source": [
    "pipe = Pipeline(steps=([('scaler', StandardScaler()), ('pca', PCA()), ('knn',KNeighborsClassifier(n_neighbors=10))]))\n",
    "\n",
    "param_grid = {\n",
    "    'pca__n_components': list(range(5, 19)),\n",
    "    'knn__n_neighbors': list(range(1, 25))\n",
    "}\n",
    "\n",
    "grid_search = GridSearchCV(pipe, param_grid, cv=5)\n",
    "grid_search.fit(df_encoded, labels)\n",
    "print(grid_search.best_params_)\n",
    "print(\"Accuracy =\", grid_search.best_score_)"
   ]
  },
  {
   "cell_type": "markdown",
   "metadata": {},
   "source": [
    "Output for KNN grid search score\n",
    "\n",
    "These were run elsewhere as they took forever.\n",
    "\n",
    "{'knnn_neighbors': 7, 'pcan_components': 18}\\\n",
    "Accuracy = 0.9234026862150564"
   ]
  },
  {
   "cell_type": "code",
   "execution_count": null,
   "metadata": {
    "id": "TtPtzg-x0YX9"
   },
   "outputs": [],
   "source": [
    "accuracy = cross_val_score(grid_search, df_encoded[:5000], labels[:5000], cv=5)\n",
    "print(\"Accuracy =\", np.mean(accuracy))"
   ]
  },
  {
   "cell_type": "markdown",
   "metadata": {},
   "source": [
    "Output for KNN Cross Val Score\n",
    "\n",
    "We were unable to run cross validation on the whole dataset - we abandoned this approach after trying to run KNN on all the data for nearly 8 hours.\n",
    "\n",
    "This result is from running KNN cross validation on a random sample of 5000 records from the dataset. \n",
    "\n",
    "Accuracy = 0.8948"
   ]
  },
  {
   "cell_type": "markdown",
   "metadata": {
    "id": "LVYpOuqM0YX9"
   },
   "source": [
    "<h3>5.6 Naive Bayes</h3>"
   ]
  },
  {
   "cell_type": "code",
   "execution_count": 52,
   "metadata": {
    "colab": {
     "base_uri": "https://localhost:8080/"
    },
    "id": "47zk8s6N0YX9",
    "outputId": "88813437-7aba-4bde-8fe0-60c82b8c245a"
   },
   "outputs": [
    {
     "name": "stdout",
     "output_type": "stream",
     "text": [
      "Accuracy = 0.8648079587641966\n"
     ]
    }
   ],
   "source": [
    "naive_bayes = GaussianNB()\n",
    "naive_bayes.fit(pca_data, y_train)\n",
    "accuracy = cross_val_score(naive_bayes, all_features, all_labels, cv=10)\n",
    "print(\"Accuracy =\", np.mean(accuracy))"
   ]
  },
  {
   "cell_type": "code",
   "execution_count": 55,
   "metadata": {
    "colab": {
     "base_uri": "https://localhost:8080/"
    },
    "id": "erUz4eeT0YX9",
    "outputId": "952a2f2c-82b6-4480-e250-b81734be44a2",
    "scrolled": true
   },
   "outputs": [
    {
     "name": "stdout",
     "output_type": "stream",
     "text": [
      "Confusion matrix: \n",
      " [[52879  6000]\n",
      " [ 8047 36978]] \n",
      "\n",
      "Classification report: \n",
      "               precision    recall  f1-score   support\n",
      "\n",
      "           0       0.87      0.90      0.88     58879\n",
      "           1       0.86      0.82      0.84     45025\n",
      "\n",
      "    accuracy                           0.86    103904\n",
      "   macro avg       0.86      0.86      0.86    103904\n",
      "weighted avg       0.86      0.86      0.86    103904\n",
      "\n"
     ]
    }
   ],
   "source": [
    "# Confusion matrix\n",
    "naive_pred = cross_val_predict(naive_bayes, all_features, all_labels, cv=10)\n",
    "print(\"Confusion matrix: \\n\", metrics.confusion_matrix(y_pred=naive_pred, y_true=all_labels), \"\\n\")\n",
    "print(\"Classification report: \\n\", metrics.classification_report(y_pred=naive_pred, y_true=all_labels))"
   ]
  },
  {
   "cell_type": "code",
   "execution_count": 56,
   "metadata": {
    "colab": {
     "base_uri": "https://localhost:8080/"
    },
    "id": "xR3JyzrN0YX9",
    "outputId": "db8f98bf-9f49-47ac-848a-11ca6435b466"
   },
   "outputs": [
    {
     "name": "stdout",
     "output_type": "stream",
     "text": [
      "AUC score:  0.8954861606837037\n"
     ]
    }
   ],
   "source": [
    "# ROC score\n",
    "naive_prob = naive_bayes.predict_proba(pca_data_test)[:,1]\n",
    "naive_auc = metrics.roc_auc_score(y_test, naive_prob)\n",
    "print(\"AUC score: \", naive_auc)\n",
    "\n",
    "n_curve = metrics.roc_curve(y_true=y_test, y_score=naive_prob)\n",
    "n_fpr, n_tpr = n_curve[0], n_curve[1]"
   ]
  },
  {
   "cell_type": "code",
   "execution_count": 57,
   "metadata": {
    "colab": {
     "base_uri": "https://localhost:8080/",
     "height": 472
    },
    "id": "-zBeP5M60YX9",
    "outputId": "c203c421-3b93-43f7-afe8-00176c5ad51c",
    "scrolled": false
   },
   "outputs": [
    {
     "data": {
      "image/png": "[encoded data removed]",
      "text/plain": [
       "<Figure size 640x480 with 1 Axes>"
      ]
     },
     "metadata": {},
     "output_type": "display_data"
    }
   ],
   "source": [
    "# ROC curve\n",
    "plt.plot([0,1],[0,1],'k--')\n",
    "plt.plot(n_fpr, n_tpr, label='NB')\n",
    "plt.xlabel('fpr')\n",
    "plt.ylabel('tpr')\n",
    "plt.title('ROC Curve Naive Bayes')\n",
    "plt.show()"
   ]
  },
  {
   "cell_type": "markdown",
   "metadata": {},
   "source": [
    "The accuracies we got from the naive bayes model are relatively high at ~86%, but are on the lower end of the models we've tried. Our suspicion is that naive bayes' assumption of independence among the features is not very appropriate for our data, especially for the individual satisfaction score columns. For example, it's possible that certain customers are more likely than others to be dissatisfied with services in general, and thus are more likely to give low ratings across the board. This assumption of independence may be the primary reason for the slightly lower performance for our naive bayes model."
   ]
  },
  {
   "cell_type": "markdown",
   "metadata": {
    "id": "1ce-U1jj0YX9"
   },
   "source": [
    "<h3>5.7 Neural Networks</h3>"
   ]
  },
  {
   "cell_type": "code",
   "execution_count": 30,
   "metadata": {
    "colab": {
     "base_uri": "https://localhost:8080/"
    },
    "id": "BAvyBc310YX9",
    "outputId": "29b26f5d-90e0-4fac-9cc2-4357445498c8"
   },
   "outputs": [
    {
     "name": "stdout",
     "output_type": "stream",
     "text": [
      "Accuracy =  0.9381999999999999\n"
     ]
    }
   ],
   "source": [
    "features = pd.concat([X_train[:5000], X_test[:5000]])\n",
    "label = pd.concat([y_train[:5000], y_test[:5000]])\n",
    "\n",
    "def run_nn():\n",
    "  nn = sklearn.neural_network.MLPClassifier()\n",
    "  ss = sklearn.preprocessing.StandardScaler()\n",
    "  pipe = sklearn.pipeline.Pipeline(steps=[('StandardScaler', ss), ('NN', nn)])\n",
    "  param_grid = {\n",
    "      'NN__hidden_layer_sizes': [30, 40, 50],\n",
    "      'NN__activation': ['tanh', 'relu']\n",
    "  }\n",
    "  gs = sklearn.model_selection.GridSearchCV(param_grid=param_grid, estimator=pipe, cv=5)\n",
    "  cv_score = sk.model_selection.cross_val_score(gs, features, y=label, cv=5)\n",
    "  print(\"Accuracy = \", cv_score.mean())\n",
    "run_nn()"
   ]
  },
  {
   "cell_type": "markdown",
   "metadata": {
    "id": "ggGqM11TZXHC"
   },
   "source": [
    "*Training this neural network on the entire training data ran for 7 hours without completing. Thus we have taken only 5000 records to train and test the network.*"
   ]
  },
  {
   "cell_type": "markdown",
   "metadata": {
    "id": "-2HqhWwa0YX9"
   },
   "source": [
    "<h3>5.8 Random Forest</h3>"
   ]
  },
  {
   "cell_type": "code",
   "execution_count": 36,
   "metadata": {
    "id": "bBaPcv2X0YX9"
   },
   "outputs": [
    {
     "name": "stdout",
     "output_type": "stream",
     "text": [
      "Classification report: \n",
      "               precision    recall  f1-score   support\n",
      "\n",
      "           0       0.96      0.98      0.97     58879\n",
      "           1       0.97      0.94      0.96     45025\n",
      "\n",
      "    accuracy                           0.96    103904\n",
      "   macro avg       0.96      0.96      0.96    103904\n",
      "weighted avg       0.96      0.96      0.96    103904\n",
      "\n",
      "Accuracy: \n",
      " 0.9626097166615337\n"
     ]
    }
   ],
   "source": [
    "rf = RandomForestClassifier()\n",
    "param_grid = {\n",
    "    'n_estimators':[50, 100, 150]\n",
    "}\n",
    "rf_gs = GridSearchCV(param_grid=param_grid, estimator=rf, cv=5)\n",
    "rf_pred = cross_val_predict(rf_gs, all_features, all_labels, cv=5)\n",
    "print(\"Classification report: \\n\", metrics.classification_report(y_pred=rf_pred, y_true=all_labels))\n",
    "print(\"Accuracy: \\n\", metrics.accuracy_score(y_pred=rf_pred, y_true=all_labels))"
   ]
  },
  {
   "cell_type": "markdown",
   "metadata": {},
   "source": [
    "The random forest model has the highest accuracy out of all the machine learning models we used at 96%. All other values in the classification report (precision, recall, f1_score) are also very high. Given that our highest up until this point had been decision trees, and random forests are an ensemble of individual decision trees, it makes sense that the accuracy for random forest is higher than that of an individual decision tree."
   ]
  },
  {
   "cell_type": "markdown",
   "metadata": {
    "id": "dXLcD6kwKmnT"
   },
   "source": [
    "<h3>6 Results and Conclusion</h3>"
   ]
  },
  {
   "cell_type": "markdown",
   "metadata": {},
   "source": [
    "We tested several different types of machine learning models in order to yield the best accuracy score. We used information from clustering and data exploration to inform our models and tuning decisions. For each model where this was relevant, we ran a grid search for different hyperparameters in order to increase our performance. <br>\n",
    "\n",
    "<b>Average Accuracies (sorted):</b> <br>\n",
    "Random Forest: 96.3% <br>\n",
    "Decision Tree: 95.2% <br>\n",
    "Neural Network: 93.8% (first 5000 records) <br>\n",
    "KNN: 92.3% <br>\n",
    "Logistic Regression: 87.5% <br>\n",
    "Naive Bayes: 86.5% <br>\n",
    "Linear Regression: 55.2% <br>\n",
    "\n",
    "Based on the outputs of all the models, using a random forest with a grid search over using 50, 100, or 150 decision trees yields the highest accuracy for predicting overall satisfaction. On top of this accuracy, random forests are relatively quick to run and easy to interpret (given that the base model of decision trees are easy to interpret) making it the best model (that we have tested) for our dataset. This is contrary to the second and third best models by accuracy, KNN and neural network, which are very computation heavy and not easily interpretable. <br>\n",
    "\n",
    "Given the high accuracy and F1 score of our random forest model, we believe that our data was properly engineered, our model finely tuned, and our results useful. <br>\n",
    "\n",
    "Future steps would be using this random forest model to deduce which features are most useful in helping us predict overall customer satisfaction. This can be done by running the random forest on random subsets of the data and comparing accuracies to isolate most useful features. We can also use forward selection and backward elimination approaches to find the most useful features to retain as input into the model. Once these features have been identified, the airline can use these results to target specific areas in order to improve overall customer satisfaction."
   ]
  }
 ],
 "metadata": {
  "colab": {
   "provenance": []
  },
  "kernelspec": {
   "display_name": "Python 3 (ipykernel)",
   "language": "python",
   "name": "python3"
  },
  "language_info": {
   "codemirror_mode": {
    "name": "ipython",
    "version": 3
   },
   "file_extension": ".py",
   "mimetype": "text/x-python",
   "name": "python",
   "nbconvert_exporter": "python",
   "pygments_lexer": "ipython3",
   "version": "3.9.13"
  }
 },
 "nbformat": 4,
 "nbformat_minor": 1
}
